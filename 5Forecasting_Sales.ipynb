{
 "cells": [
  {
   "cell_type": "code",
   "execution_count": 1,
   "id": "127dc011-4352-4d7c-a73d-2e54e66b0d49",
   "metadata": {
    "tags": []
   },
   "outputs": [],
   "source": [
    "import pandas as pd, warnings\n",
    "warnings.filterwarnings(\"ignore\")"
   ]
  },
  {
   "cell_type": "code",
   "execution_count": 2,
   "id": "c63c299a-41c1-4ece-a9ec-60df1ece5bfa",
   "metadata": {
    "tags": []
   },
   "outputs": [],
   "source": [
    "restaurants = pd.read_csv('C:\\\\Users\\\\gorvi\\\\resturants.csv')\n",
    "items = pd.read_csv('C:\\\\Users\\\\gorvi\\\\items.csv')\n",
    "sales = pd.read_csv('C:\\\\Users\\\\gorvi\\\\sales.csv')"
   ]
  },
  {
   "cell_type": "code",
   "execution_count": 3,
   "id": "e70f49ad-e09a-4963-aed9-a6b098852da3",
   "metadata": {
    "tags": []
   },
   "outputs": [
    {
     "name": "stdout",
     "output_type": "stream",
     "text": [
      "Restaurants data shape: (6, 2)\n",
      "Items data shape: (100, 5)\n",
      "Sales data shape: (109600, 4)\n"
     ]
    }
   ],
   "source": [
    "print(\"Restaurants data shape:\", restaurants.shape)\n",
    "print(\"Items data shape:\", items.shape)\n",
    "print(\"Sales data shape:\", sales.shape)"
   ]
  },
  {
   "cell_type": "code",
   "execution_count": 4,
   "id": "c0e9946c-abdf-45e9-98e2-10f87c7e6f2d",
   "metadata": {
    "tags": []
   },
   "outputs": [
    {
     "name": "stdout",
     "output_type": "stream",
     "text": [
      "\n",
      "First few rows of Restaurants data:\n",
      "   id            name\n",
      "0   1     Bob's Diner\n",
      "1   2  Beachfront Bar\n",
      "2   3     Sweet Shack\n",
      "3   4        Fou Cher\n",
      "4   5     Corner Cafe\n",
      "\n",
      "First few rows of Items data:\n",
      "   id  store_id                               name  kcal   cost\n",
      "0   1         4                     Chocolate Cake   554   6.71\n",
      "1   2         4  Breaded Fish with Vegetables Meal   772  15.09\n",
      "2   3         1                  Sweet Fruity Cake   931  29.22\n",
      "3   4         1    Amazing Steak Dinner with Rolls   763  26.42\n",
      "4   5         5                          Milk Cake   583   6.07\n",
      "\n",
      "First few rows of Sales data:\n",
      "         date  item_id  price  item_count\n",
      "0  2019-01-01        3  29.22         2.0\n",
      "1  2019-01-01        4  26.42        22.0\n",
      "2  2019-01-01       12   4.87         7.0\n",
      "3  2019-01-01       13   4.18        12.0\n",
      "4  2019-01-01       16   3.21       136.0\n"
     ]
    }
   ],
   "source": [
    "print(\"\\nFirst few rows of Restaurants data:\")\n",
    "print(restaurants.head())\n",
    "print(\"\\nFirst few rows of Items data:\")\n",
    "print(items.head())\n",
    "print(\"\\nFirst few rows of Sales data:\")\n",
    "print(sales.head())"
   ]
  },
  {
   "cell_type": "code",
   "execution_count": 5,
   "id": "bf110e33-fa55-4556-acec-74e730a9c304",
   "metadata": {
    "tags": []
   },
   "outputs": [],
   "source": [
    "merged_data = pd.merge(sales, items, left_on='item_id', right_on='id', how='inner')\n",
    "merged_data = pd.merge(merged_data, restaurants, left_on='store_id', right_on='id', how='inner')"
   ]
  },
  {
   "cell_type": "code",
   "execution_count": 6,
   "id": "19dd8c18-d156-4eae-b5c5-5e0696027494",
   "metadata": {
    "tags": []
   },
   "outputs": [],
   "source": [
    "merged_data.drop(['id_x', 'id_y'], axis=1, inplace=True)"
   ]
  },
  {
   "cell_type": "code",
   "execution_count": 7,
   "id": "13594373-6c50-4ed7-bbf7-da1c46097bcc",
   "metadata": {
    "tags": []
   },
   "outputs": [],
   "source": [
    "merged_data.rename(columns={'name_x': 'item_name', 'name_y': 'restaurant_name'}, inplace=True)"
   ]
  },
  {
   "cell_type": "code",
   "execution_count": 8,
   "id": "f637df55-abf9-4f09-a2c1-b53bc017dc5f",
   "metadata": {
    "tags": []
   },
   "outputs": [
    {
     "name": "stdout",
     "output_type": "stream",
     "text": [
      "Merged dataset:\n",
      "         date  item_id  price  item_count  store_id          item_name  kcal  \\\n",
      "0  2019-01-01        3  29.22         2.0         1  Sweet Fruity Cake   931   \n",
      "1  2019-01-02        3  29.22         0.0         1  Sweet Fruity Cake   931   \n",
      "2  2019-01-03        3  29.22         0.0         1  Sweet Fruity Cake   931   \n",
      "3  2019-01-04        3  29.22         6.0         1  Sweet Fruity Cake   931   \n",
      "4  2019-01-05        3  29.22         4.0         1  Sweet Fruity Cake   931   \n",
      "\n",
      "    cost restaurant_name  \n",
      "0  29.22     Bob's Diner  \n",
      "1  29.22     Bob's Diner  \n",
      "2  29.22     Bob's Diner  \n",
      "3  29.22     Bob's Diner  \n",
      "4  29.22     Bob's Diner  \n"
     ]
    }
   ],
   "source": [
    "print(\"Merged dataset:\")\n",
    "print(merged_data.head())"
   ]
  },
  {
   "cell_type": "code",
   "execution_count": 9,
   "id": "ddbde238-1c0e-4761-804a-96f5ff763284",
   "metadata": {
    "tags": []
   },
   "outputs": [],
   "source": [
    "merged_data['date'] = pd.to_datetime(merged_data['date'])"
   ]
  },
  {
   "cell_type": "code",
   "execution_count": 11,
   "id": "5a858bf4-47f7-4d72-a6dd-7214d42702e9",
   "metadata": {
    "tags": []
   },
   "outputs": [],
   "source": [
    "datewise_sales = merged_data.groupby('date')['item_count'].sum()"
   ]
  },
  {
   "cell_type": "code",
   "execution_count": 13,
   "id": "7ec106df-af36-4a6c-91a3-048b9fea549d",
   "metadata": {
    "tags": []
   },
   "outputs": [
    {
     "name": "stdout",
     "output_type": "stream",
     "text": [
      "Date-wise sales:\n",
      "date\n",
      "2019-01-01    427.0\n",
      "2019-01-02    337.0\n",
      "2019-01-03    445.0\n",
      "2019-01-04    564.0\n",
      "2019-01-05    552.0\n",
      "              ...  \n",
      "2021-12-27    192.0\n",
      "2021-12-28    344.0\n",
      "2021-12-29    371.0\n",
      "2021-12-30    527.0\n",
      "2021-12-31    817.0\n",
      "Name: item_count, Length: 1096, dtype: float64\n"
     ]
    }
   ],
   "source": [
    "print(\"Date-wise sales:\")\n",
    "print(datewise_sales)"
   ]
  },
  {
   "cell_type": "code",
   "execution_count": 14,
   "id": "39affc67-29f9-4743-8f3d-e5512f7a9a6d",
   "metadata": {
    "tags": []
   },
   "outputs": [],
   "source": [
    "merged_data['day_of_week'] = merged_data['date'].dt.day_name()"
   ]
  },
  {
   "cell_type": "code",
   "execution_count": 15,
   "id": "bbae7370-e5e8-42eb-9c12-37598d26e81b",
   "metadata": {
    "tags": []
   },
   "outputs": [],
   "source": [
    "daywise_sales = merged_data.groupby('day_of_week')['item_count'].sum()"
   ]
  },
  {
   "cell_type": "code",
   "execution_count": 16,
   "id": "970ac0e1-c99b-42b8-88c7-49cbf4854905",
   "metadata": {
    "tags": []
   },
   "outputs": [
    {
     "name": "stdout",
     "output_type": "stream",
     "text": [
      "Day-wise sales:\n",
      "day_of_week\n",
      "Friday       136300.0\n",
      "Monday        70112.0\n",
      "Saturday     135644.0\n",
      "Sunday        68032.0\n",
      "Thursday     116947.0\n",
      "Tuesday       79454.0\n",
      "Wednesday     88298.0\n",
      "Name: item_count, dtype: float64\n"
     ]
    }
   ],
   "source": [
    "print(\"Day-wise sales:\")\n",
    "print(daywise_sales)"
   ]
  },
  {
   "cell_type": "code",
   "execution_count": 17,
   "id": "9afea0fd-6aca-4fca-b4f3-ed80e627df97",
   "metadata": {
    "tags": []
   },
   "outputs": [],
   "source": [
    "merged_data['month'] = merged_data['date'].dt.month"
   ]
  },
  {
   "cell_type": "code",
   "execution_count": 18,
   "id": "d9bb7ac1-26b7-4bc2-b5a7-cb02e3e9b428",
   "metadata": {
    "tags": []
   },
   "outputs": [],
   "source": [
    "monthly_sales = merged_data.groupby('month')['item_count'].sum()"
   ]
  },
  {
   "cell_type": "code",
   "execution_count": 19,
   "id": "bb779713-6304-4317-9fd8-5a8b9500f351",
   "metadata": {
    "tags": []
   },
   "outputs": [
    {
     "name": "stdout",
     "output_type": "stream",
     "text": [
      "Monthly sales:\n",
      "month\n",
      "1     41270.0\n",
      "2     43596.0\n",
      "3     55137.0\n",
      "4     63145.0\n",
      "5     73632.0\n",
      "6     74423.0\n",
      "7     77125.0\n",
      "8     69502.0\n",
      "9     58660.0\n",
      "10    53403.0\n",
      "11    43670.0\n",
      "12    41224.0\n",
      "Name: item_count, dtype: float64\n"
     ]
    }
   ],
   "source": [
    "print(\"Monthly sales:\")\n",
    "print(monthly_sales)"
   ]
  },
  {
   "cell_type": "code",
   "execution_count": 20,
   "id": "5d1f3329-2fff-40b6-bb1d-842ff33d3d6e",
   "metadata": {
    "tags": []
   },
   "outputs": [],
   "source": [
    "merged_data['quarter'] = merged_data['date'].dt.quarter"
   ]
  },
  {
   "cell_type": "code",
   "execution_count": 21,
   "id": "e10a0064-108a-4970-8f54-f9d4b02df45b",
   "metadata": {
    "tags": []
   },
   "outputs": [],
   "source": [
    "quarterly_sales = merged_data.groupby('quarter')['item_count'].sum()"
   ]
  },
  {
   "cell_type": "code",
   "execution_count": 22,
   "id": "64f550e3-7b2f-4c6b-a47f-5de603d7d8a1",
   "metadata": {
    "tags": []
   },
   "outputs": [
    {
     "name": "stdout",
     "output_type": "stream",
     "text": [
      "Quarterly sales:\n",
      "quarter\n",
      "1    140003.0\n",
      "2    211200.0\n",
      "3    205287.0\n",
      "4    138297.0\n",
      "Name: item_count, dtype: float64\n"
     ]
    }
   ],
   "source": [
    "print(\"Quarterly sales:\")\n",
    "print(quarterly_sales)"
   ]
  },
  {
   "cell_type": "code",
   "execution_count": 23,
   "id": "56f65256-1b71-4f10-8e78-3bcfdaaa302c",
   "metadata": {
    "tags": []
   },
   "outputs": [],
   "source": [
    "restaurant_sales = merged_data.groupby('restaurant_name')['item_count'].sum()"
   ]
  },
  {
   "cell_type": "code",
   "execution_count": 24,
   "id": "6585a90f-a38c-488e-b3e8-144673df8153",
   "metadata": {
    "tags": []
   },
   "outputs": [
    {
     "name": "stdout",
     "output_type": "stream",
     "text": [
      "Restaurant-wise total sales:\n",
      "restaurant_name\n",
      "Beachfront Bar      1305.0\n",
      "Bob's Diner       687527.0\n",
      "Corner Cafe         1310.0\n",
      "Fou Cher            1106.0\n",
      "Surfs Up            1803.0\n",
      "Sweet Shack         1736.0\n",
      "Name: item_count, dtype: float64\n"
     ]
    }
   ],
   "source": [
    "print(\"Restaurant-wise total sales:\")\n",
    "print(restaurant_sales)"
   ]
  },
  {
   "cell_type": "code",
   "execution_count": 25,
   "id": "b78487aa-2c21-4672-ad04-d11a2ef94424",
   "metadata": {
    "tags": []
   },
   "outputs": [
    {
     "name": "stdout",
     "output_type": "stream",
     "text": [
      "Most popular item overall:\n",
      "item_name\n",
      "Strawberry Smoothy    236337.0\n",
      "Name: item_count, dtype: float64\n"
     ]
    }
   ],
   "source": [
    "most_popular_items = merged_data.groupby('item_name')['item_count'].sum().sort_values(ascending=False).head(1)\n",
    "print(\"Most popular item overall:\")\n",
    "print(most_popular_items)\n"
   ]
  },
  {
   "cell_type": "code",
   "execution_count": 26,
   "id": "74088853-7abc-4bad-8924-292a1465913a",
   "metadata": {
    "tags": []
   },
   "outputs": [
    {
     "name": "stdout",
     "output_type": "stream",
     "text": [
      "\n",
      "Most popular item at each store:\n",
      "restaurant_name\n",
      "Beachfront Bar    (Beachfront Bar, Fantastic Milky Smoothy)\n",
      "Bob's Diner               (Bob's Diner, Strawberry Smoothy)\n",
      "Corner Cafe             (Corner Cafe, Frozen Milky Smoothy)\n",
      "Fou Cher          (Fou Cher, Blue Ribbon Fruity Vegi Lunch)\n",
      "Surfs Up                     (Surfs Up, Awesome Soft Drink)\n",
      "Sweet Shack                  (Sweet Shack, Awesome Smoothy)\n",
      "Name: item_count, dtype: object\n"
     ]
    }
   ],
   "source": [
    "most_popular_item_per_store = merged_data.groupby(['restaurant_name', 'item_name'])['item_count'].sum().groupby('restaurant_name').idxmax()\n",
    "print(\"\\nMost popular item at each store:\")\n",
    "print(most_popular_item_per_store)"
   ]
  },
  {
   "cell_type": "code",
   "execution_count": 27,
   "id": "c2556314-1be0-4b54-8203-df3dc20fc354",
   "metadata": {
    "tags": []
   },
   "outputs": [],
   "source": [
    "total_sales_per_store = merged_data.groupby('restaurant_name')['item_count'].sum()"
   ]
  },
  {
   "cell_type": "code",
   "execution_count": 28,
   "id": "c90817c1-2807-43fe-96c1-7a8771d12972",
   "metadata": {
    "tags": []
   },
   "outputs": [],
   "source": [
    "merged_data['total_revenue'] = merged_data['price'] * merged_data['item_count']\n",
    "total_revenue_per_store = merged_data.groupby('restaurant_name')['total_revenue'].sum()"
   ]
  },
  {
   "cell_type": "code",
   "execution_count": 29,
   "id": "a888d0bf-2897-49f4-a315-48f3598bf973",
   "metadata": {
    "tags": []
   },
   "outputs": [],
   "source": [
    "store_with_highest_sales = total_sales_per_store.idxmax()"
   ]
  },
  {
   "cell_type": "code",
   "execution_count": 30,
   "id": "6b6d6b7e-1d7a-46c2-926c-999019b43f19",
   "metadata": {
    "tags": []
   },
   "outputs": [],
   "source": [
    "store_with_highest_revenue = total_revenue_per_store.idxmax()"
   ]
  },
  {
   "cell_type": "code",
   "execution_count": 31,
   "id": "ad449b67-2d95-4845-826f-6cf3a4ba962c",
   "metadata": {
    "tags": []
   },
   "outputs": [
    {
     "name": "stdout",
     "output_type": "stream",
     "text": [
      "\n",
      "The store with the highest sales volume is also making the most money per day.\n"
     ]
    }
   ],
   "source": [
    "if store_with_highest_sales == store_with_highest_revenue:\n",
    "    print(\"\\nThe store with the highest sales volume is also making the most money per day.\")\n",
    "else:\n",
    "    print(\"\\nThe store with the highest sales volume is not necessarily making the most money per day.\")"
   ]
  },
  {
   "cell_type": "code",
   "execution_count": 32,
   "id": "07b5b3fa-dc4d-4d2e-a8cd-19a01e040923",
   "metadata": {
    "tags": []
   },
   "outputs": [],
   "source": [
    "most_expensive_item_per_restaurant = merged_data.loc[merged_data.groupby('restaurant_name')['price'].idxmax()][['restaurant_name', 'item_name', 'price']]"
   ]
  },
  {
   "cell_type": "code",
   "execution_count": 33,
   "id": "43d82ea7-8937-4a1c-b576-32e646ea2427",
   "metadata": {
    "tags": []
   },
   "outputs": [],
   "source": [
    "most_expensive_item_per_restaurant = pd.merge(most_expensive_item_per_restaurant, items, left_on='item_name', right_on='name', how='left')[['restaurant_name', 'item_name', 'price', 'kcal']]"
   ]
  },
  {
   "cell_type": "code",
   "execution_count": 34,
   "id": "c1c70d7c-1372-48d5-9879-7bcd2ad325d9",
   "metadata": {
    "tags": []
   },
   "outputs": [
    {
     "name": "stdout",
     "output_type": "stream",
     "text": [
      "\n",
      "Most expensive item at each restaurant with its calorie count:\n",
      "  restaurant_name                      item_name  price  kcal\n",
      "0  Beachfront Bar          Sweet Vegi Soft Drink   5.70   538\n",
      "1     Bob's Diner              Sweet Fruity Cake  29.22   931\n",
      "2     Corner Cafe                     Pike Lunch  26.37   653\n",
      "3        Fou Cher  Blue Ribbon Fruity Vegi Lunch  53.98   881\n",
      "4        Surfs Up                     Steak Meal  26.21   607\n",
      "5     Sweet Shack  Blue Ribbon Frozen Milky Cake   7.70   636\n"
     ]
    }
   ],
   "source": [
    "print(\"\\nMost expensive item at each restaurant with its calorie count:\")\n",
    "print(most_expensive_item_per_restaurant)\n"
   ]
  },
  {
   "cell_type": "code",
   "execution_count": 35,
   "id": "e45fb308-c634-47f2-9fb5-03e597b2aa7a",
   "metadata": {
    "tags": []
   },
   "outputs": [],
   "source": [
    "merged_data['day_of_week'] = merged_data['date'].dt.dayofweek\n",
    "merged_data['quarter'] = merged_data['date'].dt.quarter\n",
    "merged_data['month'] = merged_data['date'].dt.month\n",
    "merged_data['year'] = merged_data['date'].dt.year\n",
    "merged_data['day_of_month'] = merged_data['date'].dt.day"
   ]
  },
  {
   "cell_type": "code",
   "execution_count": 36,
   "id": "888b4b63-9993-46eb-804b-9066cd9eccc9",
   "metadata": {
    "tags": []
   },
   "outputs": [],
   "source": [
    "merged_data['price_per_item'] = merged_data['price'] / merged_data['item_count']"
   ]
  },
  {
   "cell_type": "code",
   "execution_count": 38,
   "id": "9ab43823-00a3-4397-9f90-9c3e9f36a4a2",
   "metadata": {
    "tags": []
   },
   "outputs": [],
   "source": [
    "total_sales_per_store = merged_data.groupby(['restaurant_name', 'year', 'quarter', 'month', 'day_of_month'])['item_count'].sum().reset_index()\n",
    "total_sales_per_store.rename(columns={'item_count': 'total_sales'}, inplace=True)"
   ]
  },
  {
   "cell_type": "code",
   "execution_count": 39,
   "id": "2caf2f22-f791-4956-a4ea-d9844af8433a",
   "metadata": {
    "tags": []
   },
   "outputs": [],
   "source": [
    "merged_data['total_revenue'] = merged_data['price'] * merged_data['item_count']\n",
    "total_revenue_per_store = merged_data.groupby(['restaurant_name', 'year', 'quarter', 'month', 'day_of_month'])['total_revenue'].sum().reset_index()"
   ]
  },
  {
   "cell_type": "code",
   "execution_count": 41,
   "id": "07c4b103-754b-419e-aa85-c5d2561b7f7f",
   "metadata": {
    "tags": []
   },
   "outputs": [],
   "source": [
    "final_data = pd.merge(total_sales_per_store, total_revenue_per_store, on=['restaurant_name', 'year', 'quarter', 'month', 'day_of_month'])"
   ]
  },
  {
   "cell_type": "code",
   "execution_count": 42,
   "id": "9ed7bda0-bbb4-4854-998f-5bdbe1242e84",
   "metadata": {
    "tags": []
   },
   "outputs": [
    {
     "name": "stdout",
     "output_type": "stream",
     "text": [
      "Final data with generated features:\n",
      "  restaurant_name  year  quarter  month  day_of_month  total_sales  \\\n",
      "0  Beachfront Bar  2019        1      1             1          1.0   \n",
      "1  Beachfront Bar  2019        1      1             2          1.0   \n",
      "2  Beachfront Bar  2019        1      1             3          1.0   \n",
      "3  Beachfront Bar  2019        1      1             4          2.0   \n",
      "4  Beachfront Bar  2019        1      1             5          1.0   \n",
      "\n",
      "   total_revenue  \n",
      "0           2.91  \n",
      "1           2.91  \n",
      "2           2.91  \n",
      "3           5.34  \n",
      "4           2.91  \n"
     ]
    }
   ],
   "source": [
    "print(\"Final data with generated features:\")\n",
    "print(final_data.head())"
   ]
  },
  {
   "cell_type": "code",
   "execution_count": 43,
   "id": "05ed23eb-df4e-446c-9e05-48e3bfe4ec50",
   "metadata": {
    "tags": []
   },
   "outputs": [],
   "source": [
    "import datetime"
   ]
  },
  {
   "cell_type": "code",
   "execution_count": 44,
   "id": "6ee3b1db-59eb-4227-a322-ad83459b83b3",
   "metadata": {
    "tags": []
   },
   "outputs": [],
   "source": [
    "cutoff_date = merged_data['date'].max() - datetime.timedelta(days=6*30)"
   ]
  },
  {
   "cell_type": "code",
   "execution_count": 45,
   "id": "f67bbbdb-9c22-461c-b0f4-64f7285fc0c5",
   "metadata": {
    "tags": []
   },
   "outputs": [],
   "source": [
    "test_data = merged_data[merged_data['date'] >= cutoff_date]"
   ]
  },
  {
   "cell_type": "code",
   "execution_count": 46,
   "id": "6c768b8f-1c28-49bc-9c92-6b8e19b1ea2c",
   "metadata": {
    "tags": []
   },
   "outputs": [],
   "source": [
    "train_data = merged_data[merged_data['date'] < cutoff_date]"
   ]
  },
  {
   "cell_type": "code",
   "execution_count": 47,
   "id": "cceaea9a-22d9-40ec-a5e8-e5604215846e",
   "metadata": {
    "tags": []
   },
   "outputs": [
    {
     "name": "stdout",
     "output_type": "stream",
     "text": [
      "Training data shape: (91500, 16)\n",
      "Testing data shape: (18100, 16)\n"
     ]
    }
   ],
   "source": [
    "print(\"Training data shape:\", train_data.shape)\n",
    "print(\"Testing data shape:\", test_data.shape)"
   ]
  },
  {
   "cell_type": "code",
   "execution_count": 48,
   "id": "46e41c3b-6dab-4a44-8936-2d7999c60fb8",
   "metadata": {
    "tags": []
   },
   "outputs": [
    {
     "name": "stdout",
     "output_type": "stream",
     "text": [
      "Requirement already satisfied: xgboost in c:\\users\\gorvi\\anaconda3\\lib\\site-packages (2.0.3)\n",
      "Requirement already satisfied: numpy in c:\\users\\gorvi\\anaconda3\\lib\\site-packages (from xgboost) (1.24.3)\n",
      "Requirement already satisfied: scipy in c:\\users\\gorvi\\anaconda3\\lib\\site-packages (from xgboost) (1.11.1)\n"
     ]
    }
   ],
   "source": [
    "!pip install xgboost"
   ]
  },
  {
   "cell_type": "code",
   "execution_count": 49,
   "id": "2d3cc03e-09cb-48d1-816b-2c242d23b6a1",
   "metadata": {
    "tags": []
   },
   "outputs": [],
   "source": [
    "from sklearn.model_selection import train_test_split\n",
    "from sklearn.linear_model import LinearRegression\n",
    "from sklearn.ensemble import RandomForestRegressor\n",
    "from xgboost import XGBRegressor\n",
    "from sklearn.metrics import mean_squared_error"
   ]
  },
  {
   "cell_type": "code",
   "execution_count": 50,
   "id": "1c518896-dc6b-4d54-b098-cff7b0cb7181",
   "metadata": {
    "tags": []
   },
   "outputs": [],
   "source": [
    "X_train = train_data[['day_of_week', 'quarter', 'month', 'year', 'day_of_month']]\n",
    "y_train = train_data['item_count']\n",
    "X_test = test_data[['day_of_week', 'quarter', 'month', 'year', 'day_of_month']]\n",
    "y_test = test_data['item_count']"
   ]
  },
  {
   "cell_type": "code",
   "execution_count": 51,
   "id": "85f4eaf5-c3ce-4923-875b-ae7df225da51",
   "metadata": {
    "tags": []
   },
   "outputs": [],
   "source": [
    "linear_reg_model = LinearRegression()\n",
    "random_forest_model = RandomForestRegressor()\n",
    "xgboost_model = XGBRegressor()"
   ]
  },
  {
   "cell_type": "code",
   "execution_count": 52,
   "id": "629c02fe-02b8-4b68-9fed-d3147c735816",
   "metadata": {
    "tags": []
   },
   "outputs": [
    {
     "data": {
      "text/html": [
       "<style>#sk-container-id-1 {\n",
       "  /* Definition of color scheme common for light and dark mode */\n",
       "  --sklearn-color-text: black;\n",
       "  --sklearn-color-line: gray;\n",
       "  /* Definition of color scheme for unfitted estimators */\n",
       "  --sklearn-color-unfitted-level-0: #fff5e6;\n",
       "  --sklearn-color-unfitted-level-1: #f6e4d2;\n",
       "  --sklearn-color-unfitted-level-2: #ffe0b3;\n",
       "  --sklearn-color-unfitted-level-3: chocolate;\n",
       "  /* Definition of color scheme for fitted estimators */\n",
       "  --sklearn-color-fitted-level-0: #f0f8ff;\n",
       "  --sklearn-color-fitted-level-1: #d4ebff;\n",
       "  --sklearn-color-fitted-level-2: #b3dbfd;\n",
       "  --sklearn-color-fitted-level-3: cornflowerblue;\n",
       "\n",
       "  /* Specific color for light theme */\n",
       "  --sklearn-color-text-on-default-background: var(--sg-text-color, var(--theme-code-foreground, var(--jp-content-font-color1, black)));\n",
       "  --sklearn-color-background: var(--sg-background-color, var(--theme-background, var(--jp-layout-color0, white)));\n",
       "  --sklearn-color-border-box: var(--sg-text-color, var(--theme-code-foreground, var(--jp-content-font-color1, black)));\n",
       "  --sklearn-color-icon: #696969;\n",
       "\n",
       "  @media (prefers-color-scheme: dark) {\n",
       "    /* Redefinition of color scheme for dark theme */\n",
       "    --sklearn-color-text-on-default-background: var(--sg-text-color, var(--theme-code-foreground, var(--jp-content-font-color1, white)));\n",
       "    --sklearn-color-background: var(--sg-background-color, var(--theme-background, var(--jp-layout-color0, #111)));\n",
       "    --sklearn-color-border-box: var(--sg-text-color, var(--theme-code-foreground, var(--jp-content-font-color1, white)));\n",
       "    --sklearn-color-icon: #878787;\n",
       "  }\n",
       "}\n",
       "\n",
       "#sk-container-id-1 {\n",
       "  color: var(--sklearn-color-text);\n",
       "}\n",
       "\n",
       "#sk-container-id-1 pre {\n",
       "  padding: 0;\n",
       "}\n",
       "\n",
       "#sk-container-id-1 input.sk-hidden--visually {\n",
       "  border: 0;\n",
       "  clip: rect(1px 1px 1px 1px);\n",
       "  clip: rect(1px, 1px, 1px, 1px);\n",
       "  height: 1px;\n",
       "  margin: -1px;\n",
       "  overflow: hidden;\n",
       "  padding: 0;\n",
       "  position: absolute;\n",
       "  width: 1px;\n",
       "}\n",
       "\n",
       "#sk-container-id-1 div.sk-dashed-wrapped {\n",
       "  border: 1px dashed var(--sklearn-color-line);\n",
       "  margin: 0 0.4em 0.5em 0.4em;\n",
       "  box-sizing: border-box;\n",
       "  padding-bottom: 0.4em;\n",
       "  background-color: var(--sklearn-color-background);\n",
       "}\n",
       "\n",
       "#sk-container-id-1 div.sk-container {\n",
       "  /* jupyter's `normalize.less` sets `[hidden] { display: none; }`\n",
       "     but bootstrap.min.css set `[hidden] { display: none !important; }`\n",
       "     so we also need the `!important` here to be able to override the\n",
       "     default hidden behavior on the sphinx rendered scikit-learn.org.\n",
       "     See: https://github.com/scikit-learn/scikit-learn/issues/21755 */\n",
       "  display: inline-block !important;\n",
       "  position: relative;\n",
       "}\n",
       "\n",
       "#sk-container-id-1 div.sk-text-repr-fallback {\n",
       "  display: none;\n",
       "}\n",
       "\n",
       "div.sk-parallel-item,\n",
       "div.sk-serial,\n",
       "div.sk-item {\n",
       "  /* draw centered vertical line to link estimators */\n",
       "  background-image: linear-gradient(var(--sklearn-color-text-on-default-background), var(--sklearn-color-text-on-default-background));\n",
       "  background-size: 2px 100%;\n",
       "  background-repeat: no-repeat;\n",
       "  background-position: center center;\n",
       "}\n",
       "\n",
       "/* Parallel-specific style estimator block */\n",
       "\n",
       "#sk-container-id-1 div.sk-parallel-item::after {\n",
       "  content: \"\";\n",
       "  width: 100%;\n",
       "  border-bottom: 2px solid var(--sklearn-color-text-on-default-background);\n",
       "  flex-grow: 1;\n",
       "}\n",
       "\n",
       "#sk-container-id-1 div.sk-parallel {\n",
       "  display: flex;\n",
       "  align-items: stretch;\n",
       "  justify-content: center;\n",
       "  background-color: var(--sklearn-color-background);\n",
       "  position: relative;\n",
       "}\n",
       "\n",
       "#sk-container-id-1 div.sk-parallel-item {\n",
       "  display: flex;\n",
       "  flex-direction: column;\n",
       "}\n",
       "\n",
       "#sk-container-id-1 div.sk-parallel-item:first-child::after {\n",
       "  align-self: flex-end;\n",
       "  width: 50%;\n",
       "}\n",
       "\n",
       "#sk-container-id-1 div.sk-parallel-item:last-child::after {\n",
       "  align-self: flex-start;\n",
       "  width: 50%;\n",
       "}\n",
       "\n",
       "#sk-container-id-1 div.sk-parallel-item:only-child::after {\n",
       "  width: 0;\n",
       "}\n",
       "\n",
       "/* Serial-specific style estimator block */\n",
       "\n",
       "#sk-container-id-1 div.sk-serial {\n",
       "  display: flex;\n",
       "  flex-direction: column;\n",
       "  align-items: center;\n",
       "  background-color: var(--sklearn-color-background);\n",
       "  padding-right: 1em;\n",
       "  padding-left: 1em;\n",
       "}\n",
       "\n",
       "\n",
       "/* Toggleable style: style used for estimator/Pipeline/ColumnTransformer box that is\n",
       "clickable and can be expanded/collapsed.\n",
       "- Pipeline and ColumnTransformer use this feature and define the default style\n",
       "- Estimators will overwrite some part of the style using the `sk-estimator` class\n",
       "*/\n",
       "\n",
       "/* Pipeline and ColumnTransformer style (default) */\n",
       "\n",
       "#sk-container-id-1 div.sk-toggleable {\n",
       "  /* Default theme specific background. It is overwritten whether we have a\n",
       "  specific estimator or a Pipeline/ColumnTransformer */\n",
       "  background-color: var(--sklearn-color-background);\n",
       "}\n",
       "\n",
       "/* Toggleable label */\n",
       "#sk-container-id-1 label.sk-toggleable__label {\n",
       "  cursor: pointer;\n",
       "  display: block;\n",
       "  width: 100%;\n",
       "  margin-bottom: 0;\n",
       "  padding: 0.5em;\n",
       "  box-sizing: border-box;\n",
       "  text-align: center;\n",
       "}\n",
       "\n",
       "#sk-container-id-1 label.sk-toggleable__label-arrow:before {\n",
       "  /* Arrow on the left of the label */\n",
       "  content: \"▸\";\n",
       "  float: left;\n",
       "  margin-right: 0.25em;\n",
       "  color: var(--sklearn-color-icon);\n",
       "}\n",
       "\n",
       "#sk-container-id-1 label.sk-toggleable__label-arrow:hover:before {\n",
       "  color: var(--sklearn-color-text);\n",
       "}\n",
       "\n",
       "/* Toggleable content - dropdown */\n",
       "\n",
       "#sk-container-id-1 div.sk-toggleable__content {\n",
       "  max-height: 0;\n",
       "  max-width: 0;\n",
       "  overflow: hidden;\n",
       "  text-align: left;\n",
       "  /* unfitted */\n",
       "  background-color: var(--sklearn-color-unfitted-level-0);\n",
       "}\n",
       "\n",
       "#sk-container-id-1 div.sk-toggleable__content.fitted {\n",
       "  /* fitted */\n",
       "  background-color: var(--sklearn-color-fitted-level-0);\n",
       "}\n",
       "\n",
       "#sk-container-id-1 div.sk-toggleable__content pre {\n",
       "  margin: 0.2em;\n",
       "  border-radius: 0.25em;\n",
       "  color: var(--sklearn-color-text);\n",
       "  /* unfitted */\n",
       "  background-color: var(--sklearn-color-unfitted-level-0);\n",
       "}\n",
       "\n",
       "#sk-container-id-1 div.sk-toggleable__content.fitted pre {\n",
       "  /* unfitted */\n",
       "  background-color: var(--sklearn-color-fitted-level-0);\n",
       "}\n",
       "\n",
       "#sk-container-id-1 input.sk-toggleable__control:checked~div.sk-toggleable__content {\n",
       "  /* Expand drop-down */\n",
       "  max-height: 200px;\n",
       "  max-width: 100%;\n",
       "  overflow: auto;\n",
       "}\n",
       "\n",
       "#sk-container-id-1 input.sk-toggleable__control:checked~label.sk-toggleable__label-arrow:before {\n",
       "  content: \"▾\";\n",
       "}\n",
       "\n",
       "/* Pipeline/ColumnTransformer-specific style */\n",
       "\n",
       "#sk-container-id-1 div.sk-label input.sk-toggleable__control:checked~label.sk-toggleable__label {\n",
       "  color: var(--sklearn-color-text);\n",
       "  background-color: var(--sklearn-color-unfitted-level-2);\n",
       "}\n",
       "\n",
       "#sk-container-id-1 div.sk-label.fitted input.sk-toggleable__control:checked~label.sk-toggleable__label {\n",
       "  background-color: var(--sklearn-color-fitted-level-2);\n",
       "}\n",
       "\n",
       "/* Estimator-specific style */\n",
       "\n",
       "/* Colorize estimator box */\n",
       "#sk-container-id-1 div.sk-estimator input.sk-toggleable__control:checked~label.sk-toggleable__label {\n",
       "  /* unfitted */\n",
       "  background-color: var(--sklearn-color-unfitted-level-2);\n",
       "}\n",
       "\n",
       "#sk-container-id-1 div.sk-estimator.fitted input.sk-toggleable__control:checked~label.sk-toggleable__label {\n",
       "  /* fitted */\n",
       "  background-color: var(--sklearn-color-fitted-level-2);\n",
       "}\n",
       "\n",
       "#sk-container-id-1 div.sk-label label.sk-toggleable__label,\n",
       "#sk-container-id-1 div.sk-label label {\n",
       "  /* The background is the default theme color */\n",
       "  color: var(--sklearn-color-text-on-default-background);\n",
       "}\n",
       "\n",
       "/* On hover, darken the color of the background */\n",
       "#sk-container-id-1 div.sk-label:hover label.sk-toggleable__label {\n",
       "  color: var(--sklearn-color-text);\n",
       "  background-color: var(--sklearn-color-unfitted-level-2);\n",
       "}\n",
       "\n",
       "/* Label box, darken color on hover, fitted */\n",
       "#sk-container-id-1 div.sk-label.fitted:hover label.sk-toggleable__label.fitted {\n",
       "  color: var(--sklearn-color-text);\n",
       "  background-color: var(--sklearn-color-fitted-level-2);\n",
       "}\n",
       "\n",
       "/* Estimator label */\n",
       "\n",
       "#sk-container-id-1 div.sk-label label {\n",
       "  font-family: monospace;\n",
       "  font-weight: bold;\n",
       "  display: inline-block;\n",
       "  line-height: 1.2em;\n",
       "}\n",
       "\n",
       "#sk-container-id-1 div.sk-label-container {\n",
       "  text-align: center;\n",
       "}\n",
       "\n",
       "/* Estimator-specific */\n",
       "#sk-container-id-1 div.sk-estimator {\n",
       "  font-family: monospace;\n",
       "  border: 1px dotted var(--sklearn-color-border-box);\n",
       "  border-radius: 0.25em;\n",
       "  box-sizing: border-box;\n",
       "  margin-bottom: 0.5em;\n",
       "  /* unfitted */\n",
       "  background-color: var(--sklearn-color-unfitted-level-0);\n",
       "}\n",
       "\n",
       "#sk-container-id-1 div.sk-estimator.fitted {\n",
       "  /* fitted */\n",
       "  background-color: var(--sklearn-color-fitted-level-0);\n",
       "}\n",
       "\n",
       "/* on hover */\n",
       "#sk-container-id-1 div.sk-estimator:hover {\n",
       "  /* unfitted */\n",
       "  background-color: var(--sklearn-color-unfitted-level-2);\n",
       "}\n",
       "\n",
       "#sk-container-id-1 div.sk-estimator.fitted:hover {\n",
       "  /* fitted */\n",
       "  background-color: var(--sklearn-color-fitted-level-2);\n",
       "}\n",
       "\n",
       "/* Specification for estimator info (e.g. \"i\" and \"?\") */\n",
       "\n",
       "/* Common style for \"i\" and \"?\" */\n",
       "\n",
       ".sk-estimator-doc-link,\n",
       "a:link.sk-estimator-doc-link,\n",
       "a:visited.sk-estimator-doc-link {\n",
       "  float: right;\n",
       "  font-size: smaller;\n",
       "  line-height: 1em;\n",
       "  font-family: monospace;\n",
       "  background-color: var(--sklearn-color-background);\n",
       "  border-radius: 1em;\n",
       "  height: 1em;\n",
       "  width: 1em;\n",
       "  text-decoration: none !important;\n",
       "  margin-left: 1ex;\n",
       "  /* unfitted */\n",
       "  border: var(--sklearn-color-unfitted-level-1) 1pt solid;\n",
       "  color: var(--sklearn-color-unfitted-level-1);\n",
       "}\n",
       "\n",
       ".sk-estimator-doc-link.fitted,\n",
       "a:link.sk-estimator-doc-link.fitted,\n",
       "a:visited.sk-estimator-doc-link.fitted {\n",
       "  /* fitted */\n",
       "  border: var(--sklearn-color-fitted-level-1) 1pt solid;\n",
       "  color: var(--sklearn-color-fitted-level-1);\n",
       "}\n",
       "\n",
       "/* On hover */\n",
       "div.sk-estimator:hover .sk-estimator-doc-link:hover,\n",
       ".sk-estimator-doc-link:hover,\n",
       "div.sk-label-container:hover .sk-estimator-doc-link:hover,\n",
       ".sk-estimator-doc-link:hover {\n",
       "  /* unfitted */\n",
       "  background-color: var(--sklearn-color-unfitted-level-3);\n",
       "  color: var(--sklearn-color-background);\n",
       "  text-decoration: none;\n",
       "}\n",
       "\n",
       "div.sk-estimator.fitted:hover .sk-estimator-doc-link.fitted:hover,\n",
       ".sk-estimator-doc-link.fitted:hover,\n",
       "div.sk-label-container:hover .sk-estimator-doc-link.fitted:hover,\n",
       ".sk-estimator-doc-link.fitted:hover {\n",
       "  /* fitted */\n",
       "  background-color: var(--sklearn-color-fitted-level-3);\n",
       "  color: var(--sklearn-color-background);\n",
       "  text-decoration: none;\n",
       "}\n",
       "\n",
       "/* Span, style for the box shown on hovering the info icon */\n",
       ".sk-estimator-doc-link span {\n",
       "  display: none;\n",
       "  z-index: 9999;\n",
       "  position: relative;\n",
       "  font-weight: normal;\n",
       "  right: .2ex;\n",
       "  padding: .5ex;\n",
       "  margin: .5ex;\n",
       "  width: min-content;\n",
       "  min-width: 20ex;\n",
       "  max-width: 50ex;\n",
       "  color: var(--sklearn-color-text);\n",
       "  box-shadow: 2pt 2pt 4pt #999;\n",
       "  /* unfitted */\n",
       "  background: var(--sklearn-color-unfitted-level-0);\n",
       "  border: .5pt solid var(--sklearn-color-unfitted-level-3);\n",
       "}\n",
       "\n",
       ".sk-estimator-doc-link.fitted span {\n",
       "  /* fitted */\n",
       "  background: var(--sklearn-color-fitted-level-0);\n",
       "  border: var(--sklearn-color-fitted-level-3);\n",
       "}\n",
       "\n",
       ".sk-estimator-doc-link:hover span {\n",
       "  display: block;\n",
       "}\n",
       "\n",
       "/* \"?\"-specific style due to the `<a>` HTML tag */\n",
       "\n",
       "#sk-container-id-1 a.estimator_doc_link {\n",
       "  float: right;\n",
       "  font-size: 1rem;\n",
       "  line-height: 1em;\n",
       "  font-family: monospace;\n",
       "  background-color: var(--sklearn-color-background);\n",
       "  border-radius: 1rem;\n",
       "  height: 1rem;\n",
       "  width: 1rem;\n",
       "  text-decoration: none;\n",
       "  /* unfitted */\n",
       "  color: var(--sklearn-color-unfitted-level-1);\n",
       "  border: var(--sklearn-color-unfitted-level-1) 1pt solid;\n",
       "}\n",
       "\n",
       "#sk-container-id-1 a.estimator_doc_link.fitted {\n",
       "  /* fitted */\n",
       "  border: var(--sklearn-color-fitted-level-1) 1pt solid;\n",
       "  color: var(--sklearn-color-fitted-level-1);\n",
       "}\n",
       "\n",
       "/* On hover */\n",
       "#sk-container-id-1 a.estimator_doc_link:hover {\n",
       "  /* unfitted */\n",
       "  background-color: var(--sklearn-color-unfitted-level-3);\n",
       "  color: var(--sklearn-color-background);\n",
       "  text-decoration: none;\n",
       "}\n",
       "\n",
       "#sk-container-id-1 a.estimator_doc_link.fitted:hover {\n",
       "  /* fitted */\n",
       "  background-color: var(--sklearn-color-fitted-level-3);\n",
       "}\n",
       "</style><div id=\"sk-container-id-1\" class=\"sk-top-container\"><div class=\"sk-text-repr-fallback\"><pre>LinearRegression()</pre><b>In a Jupyter environment, please rerun this cell to show the HTML representation or trust the notebook. <br />On GitHub, the HTML representation is unable to render, please try loading this page with nbviewer.org.</b></div><div class=\"sk-container\" hidden><div class=\"sk-item\"><div class=\"sk-estimator fitted sk-toggleable\"><input class=\"sk-toggleable__control sk-hidden--visually\" id=\"sk-estimator-id-1\" type=\"checkbox\" checked><label for=\"sk-estimator-id-1\" class=\"sk-toggleable__label fitted sk-toggleable__label-arrow fitted\">&nbsp;&nbsp;LinearRegression<a class=\"sk-estimator-doc-link fitted\" rel=\"noreferrer\" target=\"_blank\" href=\"https://scikit-learn.org/1.4/modules/generated/sklearn.linear_model.LinearRegression.html\">?<span>Documentation for LinearRegression</span></a><span class=\"sk-estimator-doc-link fitted\">i<span>Fitted</span></span></label><div class=\"sk-toggleable__content fitted\"><pre>LinearRegression()</pre></div> </div></div></div></div>"
      ],
      "text/plain": [
       "LinearRegression()"
      ]
     },
     "execution_count": 52,
     "metadata": {},
     "output_type": "execute_result"
    }
   ],
   "source": [
    "linear_reg_model.fit(X_train, y_train)"
   ]
  },
  {
   "cell_type": "code",
   "execution_count": 53,
   "id": "b5244658-4f5f-4263-a16c-466b5e7af971",
   "metadata": {
    "tags": []
   },
   "outputs": [
    {
     "data": {
      "text/html": [
       "<style>#sk-container-id-2 {\n",
       "  /* Definition of color scheme common for light and dark mode */\n",
       "  --sklearn-color-text: black;\n",
       "  --sklearn-color-line: gray;\n",
       "  /* Definition of color scheme for unfitted estimators */\n",
       "  --sklearn-color-unfitted-level-0: #fff5e6;\n",
       "  --sklearn-color-unfitted-level-1: #f6e4d2;\n",
       "  --sklearn-color-unfitted-level-2: #ffe0b3;\n",
       "  --sklearn-color-unfitted-level-3: chocolate;\n",
       "  /* Definition of color scheme for fitted estimators */\n",
       "  --sklearn-color-fitted-level-0: #f0f8ff;\n",
       "  --sklearn-color-fitted-level-1: #d4ebff;\n",
       "  --sklearn-color-fitted-level-2: #b3dbfd;\n",
       "  --sklearn-color-fitted-level-3: cornflowerblue;\n",
       "\n",
       "  /* Specific color for light theme */\n",
       "  --sklearn-color-text-on-default-background: var(--sg-text-color, var(--theme-code-foreground, var(--jp-content-font-color1, black)));\n",
       "  --sklearn-color-background: var(--sg-background-color, var(--theme-background, var(--jp-layout-color0, white)));\n",
       "  --sklearn-color-border-box: var(--sg-text-color, var(--theme-code-foreground, var(--jp-content-font-color1, black)));\n",
       "  --sklearn-color-icon: #696969;\n",
       "\n",
       "  @media (prefers-color-scheme: dark) {\n",
       "    /* Redefinition of color scheme for dark theme */\n",
       "    --sklearn-color-text-on-default-background: var(--sg-text-color, var(--theme-code-foreground, var(--jp-content-font-color1, white)));\n",
       "    --sklearn-color-background: var(--sg-background-color, var(--theme-background, var(--jp-layout-color0, #111)));\n",
       "    --sklearn-color-border-box: var(--sg-text-color, var(--theme-code-foreground, var(--jp-content-font-color1, white)));\n",
       "    --sklearn-color-icon: #878787;\n",
       "  }\n",
       "}\n",
       "\n",
       "#sk-container-id-2 {\n",
       "  color: var(--sklearn-color-text);\n",
       "}\n",
       "\n",
       "#sk-container-id-2 pre {\n",
       "  padding: 0;\n",
       "}\n",
       "\n",
       "#sk-container-id-2 input.sk-hidden--visually {\n",
       "  border: 0;\n",
       "  clip: rect(1px 1px 1px 1px);\n",
       "  clip: rect(1px, 1px, 1px, 1px);\n",
       "  height: 1px;\n",
       "  margin: -1px;\n",
       "  overflow: hidden;\n",
       "  padding: 0;\n",
       "  position: absolute;\n",
       "  width: 1px;\n",
       "}\n",
       "\n",
       "#sk-container-id-2 div.sk-dashed-wrapped {\n",
       "  border: 1px dashed var(--sklearn-color-line);\n",
       "  margin: 0 0.4em 0.5em 0.4em;\n",
       "  box-sizing: border-box;\n",
       "  padding-bottom: 0.4em;\n",
       "  background-color: var(--sklearn-color-background);\n",
       "}\n",
       "\n",
       "#sk-container-id-2 div.sk-container {\n",
       "  /* jupyter's `normalize.less` sets `[hidden] { display: none; }`\n",
       "     but bootstrap.min.css set `[hidden] { display: none !important; }`\n",
       "     so we also need the `!important` here to be able to override the\n",
       "     default hidden behavior on the sphinx rendered scikit-learn.org.\n",
       "     See: https://github.com/scikit-learn/scikit-learn/issues/21755 */\n",
       "  display: inline-block !important;\n",
       "  position: relative;\n",
       "}\n",
       "\n",
       "#sk-container-id-2 div.sk-text-repr-fallback {\n",
       "  display: none;\n",
       "}\n",
       "\n",
       "div.sk-parallel-item,\n",
       "div.sk-serial,\n",
       "div.sk-item {\n",
       "  /* draw centered vertical line to link estimators */\n",
       "  background-image: linear-gradient(var(--sklearn-color-text-on-default-background), var(--sklearn-color-text-on-default-background));\n",
       "  background-size: 2px 100%;\n",
       "  background-repeat: no-repeat;\n",
       "  background-position: center center;\n",
       "}\n",
       "\n",
       "/* Parallel-specific style estimator block */\n",
       "\n",
       "#sk-container-id-2 div.sk-parallel-item::after {\n",
       "  content: \"\";\n",
       "  width: 100%;\n",
       "  border-bottom: 2px solid var(--sklearn-color-text-on-default-background);\n",
       "  flex-grow: 1;\n",
       "}\n",
       "\n",
       "#sk-container-id-2 div.sk-parallel {\n",
       "  display: flex;\n",
       "  align-items: stretch;\n",
       "  justify-content: center;\n",
       "  background-color: var(--sklearn-color-background);\n",
       "  position: relative;\n",
       "}\n",
       "\n",
       "#sk-container-id-2 div.sk-parallel-item {\n",
       "  display: flex;\n",
       "  flex-direction: column;\n",
       "}\n",
       "\n",
       "#sk-container-id-2 div.sk-parallel-item:first-child::after {\n",
       "  align-self: flex-end;\n",
       "  width: 50%;\n",
       "}\n",
       "\n",
       "#sk-container-id-2 div.sk-parallel-item:last-child::after {\n",
       "  align-self: flex-start;\n",
       "  width: 50%;\n",
       "}\n",
       "\n",
       "#sk-container-id-2 div.sk-parallel-item:only-child::after {\n",
       "  width: 0;\n",
       "}\n",
       "\n",
       "/* Serial-specific style estimator block */\n",
       "\n",
       "#sk-container-id-2 div.sk-serial {\n",
       "  display: flex;\n",
       "  flex-direction: column;\n",
       "  align-items: center;\n",
       "  background-color: var(--sklearn-color-background);\n",
       "  padding-right: 1em;\n",
       "  padding-left: 1em;\n",
       "}\n",
       "\n",
       "\n",
       "/* Toggleable style: style used for estimator/Pipeline/ColumnTransformer box that is\n",
       "clickable and can be expanded/collapsed.\n",
       "- Pipeline and ColumnTransformer use this feature and define the default style\n",
       "- Estimators will overwrite some part of the style using the `sk-estimator` class\n",
       "*/\n",
       "\n",
       "/* Pipeline and ColumnTransformer style (default) */\n",
       "\n",
       "#sk-container-id-2 div.sk-toggleable {\n",
       "  /* Default theme specific background. It is overwritten whether we have a\n",
       "  specific estimator or a Pipeline/ColumnTransformer */\n",
       "  background-color: var(--sklearn-color-background);\n",
       "}\n",
       "\n",
       "/* Toggleable label */\n",
       "#sk-container-id-2 label.sk-toggleable__label {\n",
       "  cursor: pointer;\n",
       "  display: block;\n",
       "  width: 100%;\n",
       "  margin-bottom: 0;\n",
       "  padding: 0.5em;\n",
       "  box-sizing: border-box;\n",
       "  text-align: center;\n",
       "}\n",
       "\n",
       "#sk-container-id-2 label.sk-toggleable__label-arrow:before {\n",
       "  /* Arrow on the left of the label */\n",
       "  content: \"▸\";\n",
       "  float: left;\n",
       "  margin-right: 0.25em;\n",
       "  color: var(--sklearn-color-icon);\n",
       "}\n",
       "\n",
       "#sk-container-id-2 label.sk-toggleable__label-arrow:hover:before {\n",
       "  color: var(--sklearn-color-text);\n",
       "}\n",
       "\n",
       "/* Toggleable content - dropdown */\n",
       "\n",
       "#sk-container-id-2 div.sk-toggleable__content {\n",
       "  max-height: 0;\n",
       "  max-width: 0;\n",
       "  overflow: hidden;\n",
       "  text-align: left;\n",
       "  /* unfitted */\n",
       "  background-color: var(--sklearn-color-unfitted-level-0);\n",
       "}\n",
       "\n",
       "#sk-container-id-2 div.sk-toggleable__content.fitted {\n",
       "  /* fitted */\n",
       "  background-color: var(--sklearn-color-fitted-level-0);\n",
       "}\n",
       "\n",
       "#sk-container-id-2 div.sk-toggleable__content pre {\n",
       "  margin: 0.2em;\n",
       "  border-radius: 0.25em;\n",
       "  color: var(--sklearn-color-text);\n",
       "  /* unfitted */\n",
       "  background-color: var(--sklearn-color-unfitted-level-0);\n",
       "}\n",
       "\n",
       "#sk-container-id-2 div.sk-toggleable__content.fitted pre {\n",
       "  /* unfitted */\n",
       "  background-color: var(--sklearn-color-fitted-level-0);\n",
       "}\n",
       "\n",
       "#sk-container-id-2 input.sk-toggleable__control:checked~div.sk-toggleable__content {\n",
       "  /* Expand drop-down */\n",
       "  max-height: 200px;\n",
       "  max-width: 100%;\n",
       "  overflow: auto;\n",
       "}\n",
       "\n",
       "#sk-container-id-2 input.sk-toggleable__control:checked~label.sk-toggleable__label-arrow:before {\n",
       "  content: \"▾\";\n",
       "}\n",
       "\n",
       "/* Pipeline/ColumnTransformer-specific style */\n",
       "\n",
       "#sk-container-id-2 div.sk-label input.sk-toggleable__control:checked~label.sk-toggleable__label {\n",
       "  color: var(--sklearn-color-text);\n",
       "  background-color: var(--sklearn-color-unfitted-level-2);\n",
       "}\n",
       "\n",
       "#sk-container-id-2 div.sk-label.fitted input.sk-toggleable__control:checked~label.sk-toggleable__label {\n",
       "  background-color: var(--sklearn-color-fitted-level-2);\n",
       "}\n",
       "\n",
       "/* Estimator-specific style */\n",
       "\n",
       "/* Colorize estimator box */\n",
       "#sk-container-id-2 div.sk-estimator input.sk-toggleable__control:checked~label.sk-toggleable__label {\n",
       "  /* unfitted */\n",
       "  background-color: var(--sklearn-color-unfitted-level-2);\n",
       "}\n",
       "\n",
       "#sk-container-id-2 div.sk-estimator.fitted input.sk-toggleable__control:checked~label.sk-toggleable__label {\n",
       "  /* fitted */\n",
       "  background-color: var(--sklearn-color-fitted-level-2);\n",
       "}\n",
       "\n",
       "#sk-container-id-2 div.sk-label label.sk-toggleable__label,\n",
       "#sk-container-id-2 div.sk-label label {\n",
       "  /* The background is the default theme color */\n",
       "  color: var(--sklearn-color-text-on-default-background);\n",
       "}\n",
       "\n",
       "/* On hover, darken the color of the background */\n",
       "#sk-container-id-2 div.sk-label:hover label.sk-toggleable__label {\n",
       "  color: var(--sklearn-color-text);\n",
       "  background-color: var(--sklearn-color-unfitted-level-2);\n",
       "}\n",
       "\n",
       "/* Label box, darken color on hover, fitted */\n",
       "#sk-container-id-2 div.sk-label.fitted:hover label.sk-toggleable__label.fitted {\n",
       "  color: var(--sklearn-color-text);\n",
       "  background-color: var(--sklearn-color-fitted-level-2);\n",
       "}\n",
       "\n",
       "/* Estimator label */\n",
       "\n",
       "#sk-container-id-2 div.sk-label label {\n",
       "  font-family: monospace;\n",
       "  font-weight: bold;\n",
       "  display: inline-block;\n",
       "  line-height: 1.2em;\n",
       "}\n",
       "\n",
       "#sk-container-id-2 div.sk-label-container {\n",
       "  text-align: center;\n",
       "}\n",
       "\n",
       "/* Estimator-specific */\n",
       "#sk-container-id-2 div.sk-estimator {\n",
       "  font-family: monospace;\n",
       "  border: 1px dotted var(--sklearn-color-border-box);\n",
       "  border-radius: 0.25em;\n",
       "  box-sizing: border-box;\n",
       "  margin-bottom: 0.5em;\n",
       "  /* unfitted */\n",
       "  background-color: var(--sklearn-color-unfitted-level-0);\n",
       "}\n",
       "\n",
       "#sk-container-id-2 div.sk-estimator.fitted {\n",
       "  /* fitted */\n",
       "  background-color: var(--sklearn-color-fitted-level-0);\n",
       "}\n",
       "\n",
       "/* on hover */\n",
       "#sk-container-id-2 div.sk-estimator:hover {\n",
       "  /* unfitted */\n",
       "  background-color: var(--sklearn-color-unfitted-level-2);\n",
       "}\n",
       "\n",
       "#sk-container-id-2 div.sk-estimator.fitted:hover {\n",
       "  /* fitted */\n",
       "  background-color: var(--sklearn-color-fitted-level-2);\n",
       "}\n",
       "\n",
       "/* Specification for estimator info (e.g. \"i\" and \"?\") */\n",
       "\n",
       "/* Common style for \"i\" and \"?\" */\n",
       "\n",
       ".sk-estimator-doc-link,\n",
       "a:link.sk-estimator-doc-link,\n",
       "a:visited.sk-estimator-doc-link {\n",
       "  float: right;\n",
       "  font-size: smaller;\n",
       "  line-height: 1em;\n",
       "  font-family: monospace;\n",
       "  background-color: var(--sklearn-color-background);\n",
       "  border-radius: 1em;\n",
       "  height: 1em;\n",
       "  width: 1em;\n",
       "  text-decoration: none !important;\n",
       "  margin-left: 1ex;\n",
       "  /* unfitted */\n",
       "  border: var(--sklearn-color-unfitted-level-1) 1pt solid;\n",
       "  color: var(--sklearn-color-unfitted-level-1);\n",
       "}\n",
       "\n",
       ".sk-estimator-doc-link.fitted,\n",
       "a:link.sk-estimator-doc-link.fitted,\n",
       "a:visited.sk-estimator-doc-link.fitted {\n",
       "  /* fitted */\n",
       "  border: var(--sklearn-color-fitted-level-1) 1pt solid;\n",
       "  color: var(--sklearn-color-fitted-level-1);\n",
       "}\n",
       "\n",
       "/* On hover */\n",
       "div.sk-estimator:hover .sk-estimator-doc-link:hover,\n",
       ".sk-estimator-doc-link:hover,\n",
       "div.sk-label-container:hover .sk-estimator-doc-link:hover,\n",
       ".sk-estimator-doc-link:hover {\n",
       "  /* unfitted */\n",
       "  background-color: var(--sklearn-color-unfitted-level-3);\n",
       "  color: var(--sklearn-color-background);\n",
       "  text-decoration: none;\n",
       "}\n",
       "\n",
       "div.sk-estimator.fitted:hover .sk-estimator-doc-link.fitted:hover,\n",
       ".sk-estimator-doc-link.fitted:hover,\n",
       "div.sk-label-container:hover .sk-estimator-doc-link.fitted:hover,\n",
       ".sk-estimator-doc-link.fitted:hover {\n",
       "  /* fitted */\n",
       "  background-color: var(--sklearn-color-fitted-level-3);\n",
       "  color: var(--sklearn-color-background);\n",
       "  text-decoration: none;\n",
       "}\n",
       "\n",
       "/* Span, style for the box shown on hovering the info icon */\n",
       ".sk-estimator-doc-link span {\n",
       "  display: none;\n",
       "  z-index: 9999;\n",
       "  position: relative;\n",
       "  font-weight: normal;\n",
       "  right: .2ex;\n",
       "  padding: .5ex;\n",
       "  margin: .5ex;\n",
       "  width: min-content;\n",
       "  min-width: 20ex;\n",
       "  max-width: 50ex;\n",
       "  color: var(--sklearn-color-text);\n",
       "  box-shadow: 2pt 2pt 4pt #999;\n",
       "  /* unfitted */\n",
       "  background: var(--sklearn-color-unfitted-level-0);\n",
       "  border: .5pt solid var(--sklearn-color-unfitted-level-3);\n",
       "}\n",
       "\n",
       ".sk-estimator-doc-link.fitted span {\n",
       "  /* fitted */\n",
       "  background: var(--sklearn-color-fitted-level-0);\n",
       "  border: var(--sklearn-color-fitted-level-3);\n",
       "}\n",
       "\n",
       ".sk-estimator-doc-link:hover span {\n",
       "  display: block;\n",
       "}\n",
       "\n",
       "/* \"?\"-specific style due to the `<a>` HTML tag */\n",
       "\n",
       "#sk-container-id-2 a.estimator_doc_link {\n",
       "  float: right;\n",
       "  font-size: 1rem;\n",
       "  line-height: 1em;\n",
       "  font-family: monospace;\n",
       "  background-color: var(--sklearn-color-background);\n",
       "  border-radius: 1rem;\n",
       "  height: 1rem;\n",
       "  width: 1rem;\n",
       "  text-decoration: none;\n",
       "  /* unfitted */\n",
       "  color: var(--sklearn-color-unfitted-level-1);\n",
       "  border: var(--sklearn-color-unfitted-level-1) 1pt solid;\n",
       "}\n",
       "\n",
       "#sk-container-id-2 a.estimator_doc_link.fitted {\n",
       "  /* fitted */\n",
       "  border: var(--sklearn-color-fitted-level-1) 1pt solid;\n",
       "  color: var(--sklearn-color-fitted-level-1);\n",
       "}\n",
       "\n",
       "/* On hover */\n",
       "#sk-container-id-2 a.estimator_doc_link:hover {\n",
       "  /* unfitted */\n",
       "  background-color: var(--sklearn-color-unfitted-level-3);\n",
       "  color: var(--sklearn-color-background);\n",
       "  text-decoration: none;\n",
       "}\n",
       "\n",
       "#sk-container-id-2 a.estimator_doc_link.fitted:hover {\n",
       "  /* fitted */\n",
       "  background-color: var(--sklearn-color-fitted-level-3);\n",
       "}\n",
       "</style><div id=\"sk-container-id-2\" class=\"sk-top-container\"><div class=\"sk-text-repr-fallback\"><pre>RandomForestRegressor()</pre><b>In a Jupyter environment, please rerun this cell to show the HTML representation or trust the notebook. <br />On GitHub, the HTML representation is unable to render, please try loading this page with nbviewer.org.</b></div><div class=\"sk-container\" hidden><div class=\"sk-item\"><div class=\"sk-estimator fitted sk-toggleable\"><input class=\"sk-toggleable__control sk-hidden--visually\" id=\"sk-estimator-id-2\" type=\"checkbox\" checked><label for=\"sk-estimator-id-2\" class=\"sk-toggleable__label fitted sk-toggleable__label-arrow fitted\">&nbsp;&nbsp;RandomForestRegressor<a class=\"sk-estimator-doc-link fitted\" rel=\"noreferrer\" target=\"_blank\" href=\"https://scikit-learn.org/1.4/modules/generated/sklearn.ensemble.RandomForestRegressor.html\">?<span>Documentation for RandomForestRegressor</span></a><span class=\"sk-estimator-doc-link fitted\">i<span>Fitted</span></span></label><div class=\"sk-toggleable__content fitted\"><pre>RandomForestRegressor()</pre></div> </div></div></div></div>"
      ],
      "text/plain": [
       "RandomForestRegressor()"
      ]
     },
     "execution_count": 53,
     "metadata": {},
     "output_type": "execute_result"
    }
   ],
   "source": [
    "random_forest_model.fit(X_train, y_train)"
   ]
  },
  {
   "cell_type": "code",
   "execution_count": 54,
   "id": "993d827f-2c08-4f74-a79f-55c5d772af01",
   "metadata": {
    "tags": []
   },
   "outputs": [
    {
     "data": {
      "text/html": [
       "<style>#sk-container-id-3 {\n",
       "  /* Definition of color scheme common for light and dark mode */\n",
       "  --sklearn-color-text: black;\n",
       "  --sklearn-color-line: gray;\n",
       "  /* Definition of color scheme for unfitted estimators */\n",
       "  --sklearn-color-unfitted-level-0: #fff5e6;\n",
       "  --sklearn-color-unfitted-level-1: #f6e4d2;\n",
       "  --sklearn-color-unfitted-level-2: #ffe0b3;\n",
       "  --sklearn-color-unfitted-level-3: chocolate;\n",
       "  /* Definition of color scheme for fitted estimators */\n",
       "  --sklearn-color-fitted-level-0: #f0f8ff;\n",
       "  --sklearn-color-fitted-level-1: #d4ebff;\n",
       "  --sklearn-color-fitted-level-2: #b3dbfd;\n",
       "  --sklearn-color-fitted-level-3: cornflowerblue;\n",
       "\n",
       "  /* Specific color for light theme */\n",
       "  --sklearn-color-text-on-default-background: var(--sg-text-color, var(--theme-code-foreground, var(--jp-content-font-color1, black)));\n",
       "  --sklearn-color-background: var(--sg-background-color, var(--theme-background, var(--jp-layout-color0, white)));\n",
       "  --sklearn-color-border-box: var(--sg-text-color, var(--theme-code-foreground, var(--jp-content-font-color1, black)));\n",
       "  --sklearn-color-icon: #696969;\n",
       "\n",
       "  @media (prefers-color-scheme: dark) {\n",
       "    /* Redefinition of color scheme for dark theme */\n",
       "    --sklearn-color-text-on-default-background: var(--sg-text-color, var(--theme-code-foreground, var(--jp-content-font-color1, white)));\n",
       "    --sklearn-color-background: var(--sg-background-color, var(--theme-background, var(--jp-layout-color0, #111)));\n",
       "    --sklearn-color-border-box: var(--sg-text-color, var(--theme-code-foreground, var(--jp-content-font-color1, white)));\n",
       "    --sklearn-color-icon: #878787;\n",
       "  }\n",
       "}\n",
       "\n",
       "#sk-container-id-3 {\n",
       "  color: var(--sklearn-color-text);\n",
       "}\n",
       "\n",
       "#sk-container-id-3 pre {\n",
       "  padding: 0;\n",
       "}\n",
       "\n",
       "#sk-container-id-3 input.sk-hidden--visually {\n",
       "  border: 0;\n",
       "  clip: rect(1px 1px 1px 1px);\n",
       "  clip: rect(1px, 1px, 1px, 1px);\n",
       "  height: 1px;\n",
       "  margin: -1px;\n",
       "  overflow: hidden;\n",
       "  padding: 0;\n",
       "  position: absolute;\n",
       "  width: 1px;\n",
       "}\n",
       "\n",
       "#sk-container-id-3 div.sk-dashed-wrapped {\n",
       "  border: 1px dashed var(--sklearn-color-line);\n",
       "  margin: 0 0.4em 0.5em 0.4em;\n",
       "  box-sizing: border-box;\n",
       "  padding-bottom: 0.4em;\n",
       "  background-color: var(--sklearn-color-background);\n",
       "}\n",
       "\n",
       "#sk-container-id-3 div.sk-container {\n",
       "  /* jupyter's `normalize.less` sets `[hidden] { display: none; }`\n",
       "     but bootstrap.min.css set `[hidden] { display: none !important; }`\n",
       "     so we also need the `!important` here to be able to override the\n",
       "     default hidden behavior on the sphinx rendered scikit-learn.org.\n",
       "     See: https://github.com/scikit-learn/scikit-learn/issues/21755 */\n",
       "  display: inline-block !important;\n",
       "  position: relative;\n",
       "}\n",
       "\n",
       "#sk-container-id-3 div.sk-text-repr-fallback {\n",
       "  display: none;\n",
       "}\n",
       "\n",
       "div.sk-parallel-item,\n",
       "div.sk-serial,\n",
       "div.sk-item {\n",
       "  /* draw centered vertical line to link estimators */\n",
       "  background-image: linear-gradient(var(--sklearn-color-text-on-default-background), var(--sklearn-color-text-on-default-background));\n",
       "  background-size: 2px 100%;\n",
       "  background-repeat: no-repeat;\n",
       "  background-position: center center;\n",
       "}\n",
       "\n",
       "/* Parallel-specific style estimator block */\n",
       "\n",
       "#sk-container-id-3 div.sk-parallel-item::after {\n",
       "  content: \"\";\n",
       "  width: 100%;\n",
       "  border-bottom: 2px solid var(--sklearn-color-text-on-default-background);\n",
       "  flex-grow: 1;\n",
       "}\n",
       "\n",
       "#sk-container-id-3 div.sk-parallel {\n",
       "  display: flex;\n",
       "  align-items: stretch;\n",
       "  justify-content: center;\n",
       "  background-color: var(--sklearn-color-background);\n",
       "  position: relative;\n",
       "}\n",
       "\n",
       "#sk-container-id-3 div.sk-parallel-item {\n",
       "  display: flex;\n",
       "  flex-direction: column;\n",
       "}\n",
       "\n",
       "#sk-container-id-3 div.sk-parallel-item:first-child::after {\n",
       "  align-self: flex-end;\n",
       "  width: 50%;\n",
       "}\n",
       "\n",
       "#sk-container-id-3 div.sk-parallel-item:last-child::after {\n",
       "  align-self: flex-start;\n",
       "  width: 50%;\n",
       "}\n",
       "\n",
       "#sk-container-id-3 div.sk-parallel-item:only-child::after {\n",
       "  width: 0;\n",
       "}\n",
       "\n",
       "/* Serial-specific style estimator block */\n",
       "\n",
       "#sk-container-id-3 div.sk-serial {\n",
       "  display: flex;\n",
       "  flex-direction: column;\n",
       "  align-items: center;\n",
       "  background-color: var(--sklearn-color-background);\n",
       "  padding-right: 1em;\n",
       "  padding-left: 1em;\n",
       "}\n",
       "\n",
       "\n",
       "/* Toggleable style: style used for estimator/Pipeline/ColumnTransformer box that is\n",
       "clickable and can be expanded/collapsed.\n",
       "- Pipeline and ColumnTransformer use this feature and define the default style\n",
       "- Estimators will overwrite some part of the style using the `sk-estimator` class\n",
       "*/\n",
       "\n",
       "/* Pipeline and ColumnTransformer style (default) */\n",
       "\n",
       "#sk-container-id-3 div.sk-toggleable {\n",
       "  /* Default theme specific background. It is overwritten whether we have a\n",
       "  specific estimator or a Pipeline/ColumnTransformer */\n",
       "  background-color: var(--sklearn-color-background);\n",
       "}\n",
       "\n",
       "/* Toggleable label */\n",
       "#sk-container-id-3 label.sk-toggleable__label {\n",
       "  cursor: pointer;\n",
       "  display: block;\n",
       "  width: 100%;\n",
       "  margin-bottom: 0;\n",
       "  padding: 0.5em;\n",
       "  box-sizing: border-box;\n",
       "  text-align: center;\n",
       "}\n",
       "\n",
       "#sk-container-id-3 label.sk-toggleable__label-arrow:before {\n",
       "  /* Arrow on the left of the label */\n",
       "  content: \"▸\";\n",
       "  float: left;\n",
       "  margin-right: 0.25em;\n",
       "  color: var(--sklearn-color-icon);\n",
       "}\n",
       "\n",
       "#sk-container-id-3 label.sk-toggleable__label-arrow:hover:before {\n",
       "  color: var(--sklearn-color-text);\n",
       "}\n",
       "\n",
       "/* Toggleable content - dropdown */\n",
       "\n",
       "#sk-container-id-3 div.sk-toggleable__content {\n",
       "  max-height: 0;\n",
       "  max-width: 0;\n",
       "  overflow: hidden;\n",
       "  text-align: left;\n",
       "  /* unfitted */\n",
       "  background-color: var(--sklearn-color-unfitted-level-0);\n",
       "}\n",
       "\n",
       "#sk-container-id-3 div.sk-toggleable__content.fitted {\n",
       "  /* fitted */\n",
       "  background-color: var(--sklearn-color-fitted-level-0);\n",
       "}\n",
       "\n",
       "#sk-container-id-3 div.sk-toggleable__content pre {\n",
       "  margin: 0.2em;\n",
       "  border-radius: 0.25em;\n",
       "  color: var(--sklearn-color-text);\n",
       "  /* unfitted */\n",
       "  background-color: var(--sklearn-color-unfitted-level-0);\n",
       "}\n",
       "\n",
       "#sk-container-id-3 div.sk-toggleable__content.fitted pre {\n",
       "  /* unfitted */\n",
       "  background-color: var(--sklearn-color-fitted-level-0);\n",
       "}\n",
       "\n",
       "#sk-container-id-3 input.sk-toggleable__control:checked~div.sk-toggleable__content {\n",
       "  /* Expand drop-down */\n",
       "  max-height: 200px;\n",
       "  max-width: 100%;\n",
       "  overflow: auto;\n",
       "}\n",
       "\n",
       "#sk-container-id-3 input.sk-toggleable__control:checked~label.sk-toggleable__label-arrow:before {\n",
       "  content: \"▾\";\n",
       "}\n",
       "\n",
       "/* Pipeline/ColumnTransformer-specific style */\n",
       "\n",
       "#sk-container-id-3 div.sk-label input.sk-toggleable__control:checked~label.sk-toggleable__label {\n",
       "  color: var(--sklearn-color-text);\n",
       "  background-color: var(--sklearn-color-unfitted-level-2);\n",
       "}\n",
       "\n",
       "#sk-container-id-3 div.sk-label.fitted input.sk-toggleable__control:checked~label.sk-toggleable__label {\n",
       "  background-color: var(--sklearn-color-fitted-level-2);\n",
       "}\n",
       "\n",
       "/* Estimator-specific style */\n",
       "\n",
       "/* Colorize estimator box */\n",
       "#sk-container-id-3 div.sk-estimator input.sk-toggleable__control:checked~label.sk-toggleable__label {\n",
       "  /* unfitted */\n",
       "  background-color: var(--sklearn-color-unfitted-level-2);\n",
       "}\n",
       "\n",
       "#sk-container-id-3 div.sk-estimator.fitted input.sk-toggleable__control:checked~label.sk-toggleable__label {\n",
       "  /* fitted */\n",
       "  background-color: var(--sklearn-color-fitted-level-2);\n",
       "}\n",
       "\n",
       "#sk-container-id-3 div.sk-label label.sk-toggleable__label,\n",
       "#sk-container-id-3 div.sk-label label {\n",
       "  /* The background is the default theme color */\n",
       "  color: var(--sklearn-color-text-on-default-background);\n",
       "}\n",
       "\n",
       "/* On hover, darken the color of the background */\n",
       "#sk-container-id-3 div.sk-label:hover label.sk-toggleable__label {\n",
       "  color: var(--sklearn-color-text);\n",
       "  background-color: var(--sklearn-color-unfitted-level-2);\n",
       "}\n",
       "\n",
       "/* Label box, darken color on hover, fitted */\n",
       "#sk-container-id-3 div.sk-label.fitted:hover label.sk-toggleable__label.fitted {\n",
       "  color: var(--sklearn-color-text);\n",
       "  background-color: var(--sklearn-color-fitted-level-2);\n",
       "}\n",
       "\n",
       "/* Estimator label */\n",
       "\n",
       "#sk-container-id-3 div.sk-label label {\n",
       "  font-family: monospace;\n",
       "  font-weight: bold;\n",
       "  display: inline-block;\n",
       "  line-height: 1.2em;\n",
       "}\n",
       "\n",
       "#sk-container-id-3 div.sk-label-container {\n",
       "  text-align: center;\n",
       "}\n",
       "\n",
       "/* Estimator-specific */\n",
       "#sk-container-id-3 div.sk-estimator {\n",
       "  font-family: monospace;\n",
       "  border: 1px dotted var(--sklearn-color-border-box);\n",
       "  border-radius: 0.25em;\n",
       "  box-sizing: border-box;\n",
       "  margin-bottom: 0.5em;\n",
       "  /* unfitted */\n",
       "  background-color: var(--sklearn-color-unfitted-level-0);\n",
       "}\n",
       "\n",
       "#sk-container-id-3 div.sk-estimator.fitted {\n",
       "  /* fitted */\n",
       "  background-color: var(--sklearn-color-fitted-level-0);\n",
       "}\n",
       "\n",
       "/* on hover */\n",
       "#sk-container-id-3 div.sk-estimator:hover {\n",
       "  /* unfitted */\n",
       "  background-color: var(--sklearn-color-unfitted-level-2);\n",
       "}\n",
       "\n",
       "#sk-container-id-3 div.sk-estimator.fitted:hover {\n",
       "  /* fitted */\n",
       "  background-color: var(--sklearn-color-fitted-level-2);\n",
       "}\n",
       "\n",
       "/* Specification for estimator info (e.g. \"i\" and \"?\") */\n",
       "\n",
       "/* Common style for \"i\" and \"?\" */\n",
       "\n",
       ".sk-estimator-doc-link,\n",
       "a:link.sk-estimator-doc-link,\n",
       "a:visited.sk-estimator-doc-link {\n",
       "  float: right;\n",
       "  font-size: smaller;\n",
       "  line-height: 1em;\n",
       "  font-family: monospace;\n",
       "  background-color: var(--sklearn-color-background);\n",
       "  border-radius: 1em;\n",
       "  height: 1em;\n",
       "  width: 1em;\n",
       "  text-decoration: none !important;\n",
       "  margin-left: 1ex;\n",
       "  /* unfitted */\n",
       "  border: var(--sklearn-color-unfitted-level-1) 1pt solid;\n",
       "  color: var(--sklearn-color-unfitted-level-1);\n",
       "}\n",
       "\n",
       ".sk-estimator-doc-link.fitted,\n",
       "a:link.sk-estimator-doc-link.fitted,\n",
       "a:visited.sk-estimator-doc-link.fitted {\n",
       "  /* fitted */\n",
       "  border: var(--sklearn-color-fitted-level-1) 1pt solid;\n",
       "  color: var(--sklearn-color-fitted-level-1);\n",
       "}\n",
       "\n",
       "/* On hover */\n",
       "div.sk-estimator:hover .sk-estimator-doc-link:hover,\n",
       ".sk-estimator-doc-link:hover,\n",
       "div.sk-label-container:hover .sk-estimator-doc-link:hover,\n",
       ".sk-estimator-doc-link:hover {\n",
       "  /* unfitted */\n",
       "  background-color: var(--sklearn-color-unfitted-level-3);\n",
       "  color: var(--sklearn-color-background);\n",
       "  text-decoration: none;\n",
       "}\n",
       "\n",
       "div.sk-estimator.fitted:hover .sk-estimator-doc-link.fitted:hover,\n",
       ".sk-estimator-doc-link.fitted:hover,\n",
       "div.sk-label-container:hover .sk-estimator-doc-link.fitted:hover,\n",
       ".sk-estimator-doc-link.fitted:hover {\n",
       "  /* fitted */\n",
       "  background-color: var(--sklearn-color-fitted-level-3);\n",
       "  color: var(--sklearn-color-background);\n",
       "  text-decoration: none;\n",
       "}\n",
       "\n",
       "/* Span, style for the box shown on hovering the info icon */\n",
       ".sk-estimator-doc-link span {\n",
       "  display: none;\n",
       "  z-index: 9999;\n",
       "  position: relative;\n",
       "  font-weight: normal;\n",
       "  right: .2ex;\n",
       "  padding: .5ex;\n",
       "  margin: .5ex;\n",
       "  width: min-content;\n",
       "  min-width: 20ex;\n",
       "  max-width: 50ex;\n",
       "  color: var(--sklearn-color-text);\n",
       "  box-shadow: 2pt 2pt 4pt #999;\n",
       "  /* unfitted */\n",
       "  background: var(--sklearn-color-unfitted-level-0);\n",
       "  border: .5pt solid var(--sklearn-color-unfitted-level-3);\n",
       "}\n",
       "\n",
       ".sk-estimator-doc-link.fitted span {\n",
       "  /* fitted */\n",
       "  background: var(--sklearn-color-fitted-level-0);\n",
       "  border: var(--sklearn-color-fitted-level-3);\n",
       "}\n",
       "\n",
       ".sk-estimator-doc-link:hover span {\n",
       "  display: block;\n",
       "}\n",
       "\n",
       "/* \"?\"-specific style due to the `<a>` HTML tag */\n",
       "\n",
       "#sk-container-id-3 a.estimator_doc_link {\n",
       "  float: right;\n",
       "  font-size: 1rem;\n",
       "  line-height: 1em;\n",
       "  font-family: monospace;\n",
       "  background-color: var(--sklearn-color-background);\n",
       "  border-radius: 1rem;\n",
       "  height: 1rem;\n",
       "  width: 1rem;\n",
       "  text-decoration: none;\n",
       "  /* unfitted */\n",
       "  color: var(--sklearn-color-unfitted-level-1);\n",
       "  border: var(--sklearn-color-unfitted-level-1) 1pt solid;\n",
       "}\n",
       "\n",
       "#sk-container-id-3 a.estimator_doc_link.fitted {\n",
       "  /* fitted */\n",
       "  border: var(--sklearn-color-fitted-level-1) 1pt solid;\n",
       "  color: var(--sklearn-color-fitted-level-1);\n",
       "}\n",
       "\n",
       "/* On hover */\n",
       "#sk-container-id-3 a.estimator_doc_link:hover {\n",
       "  /* unfitted */\n",
       "  background-color: var(--sklearn-color-unfitted-level-3);\n",
       "  color: var(--sklearn-color-background);\n",
       "  text-decoration: none;\n",
       "}\n",
       "\n",
       "#sk-container-id-3 a.estimator_doc_link.fitted:hover {\n",
       "  /* fitted */\n",
       "  background-color: var(--sklearn-color-fitted-level-3);\n",
       "}\n",
       "</style><div id=\"sk-container-id-3\" class=\"sk-top-container\"><div class=\"sk-text-repr-fallback\"><pre>XGBRegressor(base_score=None, booster=None, callbacks=None,\n",
       "             colsample_bylevel=None, colsample_bynode=None,\n",
       "             colsample_bytree=None, device=None, early_stopping_rounds=None,\n",
       "             enable_categorical=False, eval_metric=None, feature_types=None,\n",
       "             gamma=None, grow_policy=None, importance_type=None,\n",
       "             interaction_constraints=None, learning_rate=None, max_bin=None,\n",
       "             max_cat_threshold=None, max_cat_to_onehot=None,\n",
       "             max_delta_step=None, max_depth=None, max_leaves=None,\n",
       "             min_child_weight=None, missing=nan, monotone_constraints=None,\n",
       "             multi_strategy=None, n_estimators=None, n_jobs=None,\n",
       "             num_parallel_tree=None, random_state=None, ...)</pre><b>In a Jupyter environment, please rerun this cell to show the HTML representation or trust the notebook. <br />On GitHub, the HTML representation is unable to render, please try loading this page with nbviewer.org.</b></div><div class=\"sk-container\" hidden><div class=\"sk-item\"><div class=\"sk-estimator fitted sk-toggleable\"><input class=\"sk-toggleable__control sk-hidden--visually\" id=\"sk-estimator-id-3\" type=\"checkbox\" checked><label for=\"sk-estimator-id-3\" class=\"sk-toggleable__label fitted sk-toggleable__label-arrow fitted\">&nbsp;XGBRegressor<span class=\"sk-estimator-doc-link fitted\">i<span>Fitted</span></span></label><div class=\"sk-toggleable__content fitted\"><pre>XGBRegressor(base_score=None, booster=None, callbacks=None,\n",
       "             colsample_bylevel=None, colsample_bynode=None,\n",
       "             colsample_bytree=None, device=None, early_stopping_rounds=None,\n",
       "             enable_categorical=False, eval_metric=None, feature_types=None,\n",
       "             gamma=None, grow_policy=None, importance_type=None,\n",
       "             interaction_constraints=None, learning_rate=None, max_bin=None,\n",
       "             max_cat_threshold=None, max_cat_to_onehot=None,\n",
       "             max_delta_step=None, max_depth=None, max_leaves=None,\n",
       "             min_child_weight=None, missing=nan, monotone_constraints=None,\n",
       "             multi_strategy=None, n_estimators=None, n_jobs=None,\n",
       "             num_parallel_tree=None, random_state=None, ...)</pre></div> </div></div></div></div>"
      ],
      "text/plain": [
       "XGBRegressor(base_score=None, booster=None, callbacks=None,\n",
       "             colsample_bylevel=None, colsample_bynode=None,\n",
       "             colsample_bytree=None, device=None, early_stopping_rounds=None,\n",
       "             enable_categorical=False, eval_metric=None, feature_types=None,\n",
       "             gamma=None, grow_policy=None, importance_type=None,\n",
       "             interaction_constraints=None, learning_rate=None, max_bin=None,\n",
       "             max_cat_threshold=None, max_cat_to_onehot=None,\n",
       "             max_delta_step=None, max_depth=None, max_leaves=None,\n",
       "             min_child_weight=None, missing=nan, monotone_constraints=None,\n",
       "             multi_strategy=None, n_estimators=None, n_jobs=None,\n",
       "             num_parallel_tree=None, random_state=None, ...)"
      ]
     },
     "execution_count": 54,
     "metadata": {},
     "output_type": "execute_result"
    }
   ],
   "source": [
    "xgboost_model.fit(X_train, y_train)"
   ]
  },
  {
   "cell_type": "code",
   "execution_count": 55,
   "id": "847fc01e-7c34-4850-87bb-13691d7d3daa",
   "metadata": {
    "tags": []
   },
   "outputs": [],
   "source": [
    "linear_reg_pred = linear_reg_model.predict(X_test)\n",
    "random_forest_pred = random_forest_model.predict(X_test)\n",
    "xgboost_pred = xgboost_model.predict(X_test)"
   ]
  },
  {
   "cell_type": "code",
   "execution_count": 56,
   "id": "97212311-3cfc-43b2-9e0d-879fc7e4cdb3",
   "metadata": {
    "tags": []
   },
   "outputs": [],
   "source": [
    "linear_reg_rmse = mean_squared_error(y_test, linear_reg_pred, squared=False)\n",
    "random_forest_rmse = mean_squared_error(y_test, random_forest_pred, squared=False)\n",
    "xgboost_rmse = mean_squared_error(y_test, xgboost_pred, squared=False)"
   ]
  },
  {
   "cell_type": "code",
   "execution_count": 57,
   "id": "d7567569-c930-436a-a7a6-c1b36b4c2e55",
   "metadata": {
    "tags": []
   },
   "outputs": [
    {
     "name": "stdout",
     "output_type": "stream",
     "text": [
      "Linear Regression RMSE: 30.472731388286658\n",
      "Random Forest RMSE: 30.383094727270187\n",
      "XGBoost RMSE: 30.384638568706414\n"
     ]
    }
   ],
   "source": [
    "print(\"Linear Regression RMSE:\", linear_reg_rmse)\n",
    "print(\"Random Forest RMSE:\", random_forest_rmse)\n",
    "print(\"XGBoost RMSE:\", xgboost_rmse)"
   ]
  },
  {
   "cell_type": "code",
   "execution_count": 58,
   "id": "67f2d853-d2ee-493d-bde1-8edae47e9a11",
   "metadata": {
    "tags": []
   },
   "outputs": [],
   "source": [
    "rmse_values = {\n",
    "    \"Linear Regression\": linear_reg_rmse,\n",
    "    \"Random Forest\": random_forest_rmse,\n",
    "    \"XGBoost\": xgboost_rmse\n",
    "}"
   ]
  },
  {
   "cell_type": "code",
   "execution_count": 59,
   "id": "1fcd3db7-4e89-431c-a38f-b065797a61e2",
   "metadata": {
    "tags": []
   },
   "outputs": [],
   "source": [
    "best_model = min(rmse_values, key=rmse_values.get)\n",
    "best_rmse = rmse_values[best_model]"
   ]
  },
  {
   "cell_type": "code",
   "execution_count": 60,
   "id": "3dd2d2b4-3670-4cfd-9b66-82e2a9d857ff",
   "metadata": {
    "tags": []
   },
   "outputs": [
    {
     "name": "stdout",
     "output_type": "stream",
     "text": [
      "Best-performing model: Random Forest\n",
      "RMSE: 30.383094727270187\n"
     ]
    }
   ],
   "source": [
    "print(\"Best-performing model:\", best_model)\n",
    "print(\"RMSE:\", best_rmse)"
   ]
  },
  {
   "cell_type": "code",
   "execution_count": 61,
   "id": "60700739-5f44-465e-8d0e-9f661349a2e5",
   "metadata": {
    "tags": []
   },
   "outputs": [],
   "source": [
    "next_year_dates = pd.date_range(start='2025-01-01', end='2025-12-31', freq='D')\n",
    "next_year_data = pd.DataFrame({\n",
    "    'date': next_year_dates,\n",
    "    'day_of_week': next_year_dates.dayofweek,  # Monday is 0, Sunday is 6\n",
    "    'quarter': next_year_dates.quarter,\n",
    "    'month': next_year_dates.month,\n",
    "    'year': next_year_dates.year,\n",
    "    'day_of_month': next_year_dates.day\n",
    "})"
   ]
  },
  {
   "cell_type": "code",
   "execution_count": 62,
   "id": "3bbfa1e2-5df6-4fdf-a5ca-da213b6a4c03",
   "metadata": {
    "tags": []
   },
   "outputs": [],
   "source": [
    "forecasts = xgboost_model.predict(next_year_data[['day_of_week', 'quarter', 'month', 'year', 'day_of_month']])"
   ]
  },
  {
   "cell_type": "code",
   "execution_count": 63,
   "id": "16916269-1f1a-4a4b-b7d7-cfa17f919420",
   "metadata": {
    "tags": []
   },
   "outputs": [
    {
     "name": "stdout",
     "output_type": "stream",
     "text": [
      "Forecasts for the next year:\n",
      "[ 5.3887143  5.595326   6.9867177  6.767365   2.5652914  2.3056936\n",
      "  3.2755902  3.1567054  5.351598   6.8062406  7.0856514  2.494931\n",
      "  3.1991136  3.5255773  3.9259045  5.6619244  7.0433702  7.035697\n",
      "  2.5615594  4.370259   3.59315    3.8917894  5.9890275  7.621117\n",
      "  7.3329473  2.5229967  2.9385238  3.8200526  3.9097404  5.8931856\n",
      "  6.812539   7.413296   3.1034477  3.4635289  3.7054992  3.8509378\n",
      "  5.925595   7.3648505  7.367313   3.1154807  2.9982448  4.029894\n",
      "  4.0835757  6.0992737  7.283243   8.092458   3.0665386  5.324126\n",
      "  3.930772   4.834479   6.6746674  8.366      8.145364   3.0664918\n",
      "  3.6881032  4.68147    5.0207763  6.898365   8.587194   8.413681\n",
      "  4.04898    3.9526193  4.574053   5.086498   7.3124576  8.640929\n",
      "  8.709524   3.9898334  4.2551355  4.795936   5.173505   7.6817465\n",
      "  8.730496   8.845509   4.382804   4.5856466  4.886716   5.654007\n",
      "  7.725563   9.228309   8.949485   4.4901056  4.4994965  5.0740113\n",
      "  6.105481   8.068577   9.176117   8.9881     4.3441534  4.7687745\n",
      "  5.670881   6.27658    8.267256   9.602668   9.82165    5.6273155\n",
      "  5.5518565  5.8852086  6.0707097  8.258646   9.620782   9.944446\n",
      "  5.8002005  5.2498894  5.6699014  6.1819997  9.087019   9.923431\n",
      " 10.275941   5.377697   5.3788295  6.4270473  6.4266005  9.064021\n",
      "  9.969324  10.351353   5.76289    6.2202797  7.096484   7.287319\n",
      "  9.660447  10.533145  10.597989   6.1339574  5.513185   6.7943697\n",
      "  7.939822   8.989688  10.492409  10.402617   6.038953   6.200782\n",
      "  6.9806414  7.5255675  9.345338  10.784474  11.449611   6.7598567\n",
      "  6.259542   6.9271483  7.6444697  9.817932  10.730402  11.296889\n",
      "  6.266335   7.5576754  7.7409573  8.209865  10.100082  10.896692\n",
      " 10.727672   6.698525   6.4739094  7.3037663  8.068495   9.566397\n",
      " 11.289004  11.404552   6.6450706  7.0348997  7.9285007  8.26263\n",
      " 10.1403675 11.585719  11.892455   6.966446   6.8531046  8.055931\n",
      "  8.353511  10.507732  11.552859  11.557622   6.268522   6.4195123\n",
      "  7.6938353  7.9090977 10.021974  11.203074  11.421172   6.6002684\n",
      "  7.480279   8.0303755  8.192829   9.833508  11.646876  11.510902\n",
      "  6.6718364  7.2476606  7.8951793  8.751134  10.185724  11.390056\n",
      " 11.73932    6.5338693  6.959149   8.06692    8.674875  10.352745\n",
      " 11.398297  11.591385   6.429472   7.0751224  8.019075   7.8682036\n",
      " 10.107055  11.244381  11.494004   6.517949   6.875363   8.06682\n",
      "  8.5958395 10.059656  11.602667  11.11668    5.7542825  6.69349\n",
      "  7.4815035  8.130646   9.99711   11.174894  11.089551   6.011339\n",
      "  6.4715734  7.474773   7.7970433  9.729562  10.8647585 11.050458\n",
      "  6.373236   6.5575166  7.331187   7.567558   9.887247  10.688537\n",
      " 10.797092   5.6677938  6.2165904  7.0755334  7.335287   9.86109\n",
      " 11.095693  11.099935   5.8708153  6.674095   6.8270817  7.313308\n",
      "  8.933075  10.433666  10.468865   5.3745213  6.1466618  6.761807\n",
      "  7.3050985  9.135371  10.244962   9.965189   4.9955273  4.522459\n",
      "  6.7158136  6.987418   8.983538   9.786134   9.878118   4.978455\n",
      "  4.797522   6.015876   6.815961   8.793438   9.557138   9.431898\n",
      "  4.5731153  4.877015   6.643726   6.310855   8.169447   9.287512\n",
      "  9.187368   3.9059467  4.8919106  5.055606   5.8332353  8.033374\n",
      "  9.119956   9.021983   4.235896   5.1955366  5.2251506  5.0684586\n",
      "  8.626892   9.624779   9.50292    3.7616901  3.5620282  4.888046\n",
      "  5.18702    7.5719395  9.117554   9.251734   3.8032613  3.6405594\n",
      "  4.529432   4.4523196  8.0353365  8.648966   8.486544   2.8453252\n",
      "  3.2736864  3.8803775  5.3338304  7.406987   8.6499195  8.334459\n",
      "  3.2672672  4.2842455  4.924198   4.6705675  7.460589   9.060597\n",
      "  8.43913    3.5395744  3.9680345  4.011717   4.6261525  7.465628\n",
      "  8.552509   8.271967   2.8440182  2.5590441  3.5065064  4.346728\n",
      "  7.8269477  8.574369   8.078513   2.9061432  2.6473384  3.1473749\n",
      "  4.120303   6.36467    8.446942   8.443015   2.7899377  2.8085065\n",
      "  3.1840703  4.0792055  6.324824   8.32196    8.579162   2.9347935\n",
      "  2.932157   3.54355    4.273335   6.5729213  8.614264   8.268264\n",
      "  2.805243   2.8849826  3.546959   4.2485123  7.0406666  8.740918\n",
      "  8.033751   2.802068   2.6827147  3.517814   4.1735253]\n"
     ]
    }
   ],
   "source": [
    "print(\"Forecasts for the next year:\")\n",
    "print(forecasts)"
   ]
  },
  {
   "cell_type": "code",
   "execution_count": 64,
   "id": "d3fc07e9-d80b-445c-b8ec-1f2861f67fdb",
   "metadata": {
    "tags": []
   },
   "outputs": [],
   "source": [
    "from sklearn.preprocessing import MinMaxScaler\n",
    "import numpy as np"
   ]
  },
  {
   "cell_type": "code",
   "execution_count": 65,
   "id": "4e6c2726-87f1-4c01-a02f-3894bb9ac545",
   "metadata": {
    "tags": []
   },
   "outputs": [],
   "source": [
    "scaler = MinMaxScaler()"
   ]
  },
  {
   "cell_type": "code",
   "execution_count": 66,
   "id": "380de469-d361-4767-8cb2-a3700e9fb75c",
   "metadata": {
    "tags": []
   },
   "outputs": [],
   "source": [
    "merged_data['date_numeric'] = (merged_data['date'] - merged_data['date'].min()).dt.days"
   ]
  },
  {
   "cell_type": "code",
   "execution_count": 67,
   "id": "05c7b6c2-a45f-4a38-81ce-99f7258d16f1",
   "metadata": {
    "tags": []
   },
   "outputs": [],
   "source": [
    "target_variable = 'price'"
   ]
  },
  {
   "cell_type": "code",
   "execution_count": 68,
   "id": "64ea35b7-5f82-4ae1-b98d-c9b210c68600",
   "metadata": {
    "tags": []
   },
   "outputs": [],
   "source": [
    "scaler = MinMaxScaler(feature_range=(0, 1))\n",
    "scaled_data = scaler.fit_transform(merged_data[['date_numeric', target_variable]].values)"
   ]
  },
  {
   "cell_type": "code",
   "execution_count": 69,
   "id": "af7d991b-8704-459d-b97e-0203ea0b1b43",
   "metadata": {
    "tags": []
   },
   "outputs": [],
   "source": [
    "train_size = int(len(scaled_data) * 0.8)\n",
    "train_series, test_series = scaled_data[0:train_size], scaled_data[train_size:len(scaled_data)]"
   ]
  },
  {
   "cell_type": "code",
   "execution_count": 104,
   "id": "a0fddb27-b21d-460c-85d7-916e0b9696aa",
   "metadata": {
    "tags": []
   },
   "outputs": [],
   "source": [
    "def create_dataset(dataset, time_step=1):\n",
    "    X, y = [], []\n",
    "    for i in range(len(dataset)-time_step-1):\n",
    "        X.append(dataset[i:(i+time_step), 0])\n",
    "        y.append(dataset[i + time_step, 0])\n",
    "    return np.array(X), np.array(y)"
   ]
  },
  {
   "cell_type": "code",
   "execution_count": 71,
   "id": "1e8ac14b-682f-4e08-814f-416b4bb40012",
   "metadata": {
    "tags": []
   },
   "outputs": [],
   "source": [
    "time_step = 12\n",
    "X_train, y_train = create_dataset(train_series, time_step)\n",
    "X_test, y_test = create_dataset(test_series, time_step)"
   ]
  },
  {
   "cell_type": "code",
   "execution_count": 72,
   "id": "90b8f1aa-950f-4d7d-8a59-ef29f6048fad",
   "metadata": {
    "tags": []
   },
   "outputs": [],
   "source": [
    "X_train = X_train.reshape(X_train.shape[0], X_train.shape[1], 1)\n",
    "X_test = X_test.reshape(X_test.shape[0], X_test.shape[1], 1)"
   ]
  },
  {
   "cell_type": "code",
   "execution_count": 73,
   "id": "12819e24-9b25-41c6-9466-71d3e818a161",
   "metadata": {
    "tags": []
   },
   "outputs": [],
   "source": [
    "from keras.models import Sequential\n",
    "from keras.layers import LSTM, Dense\n",
    "import numpy as np"
   ]
  },
  {
   "cell_type": "code",
   "execution_count": 74,
   "id": "2378b0c8-e4c7-468e-ac2b-c35223805830",
   "metadata": {
    "tags": []
   },
   "outputs": [],
   "source": [
    "train_size = int(len(scaled_data) * 0.8)\n",
    "train_series, test_series = scaled_data[0:train_size], scaled_data[train_size:len(scaled_data)]"
   ]
  },
  {
   "cell_type": "code",
   "execution_count": 75,
   "id": "179d2504-66a6-4b91-ad80-d60d2cb89162",
   "metadata": {
    "tags": []
   },
   "outputs": [],
   "source": [
    "def create_dataset(dataset, time_step=1):\n",
    "    X, y = [], []\n",
    "    for i in range(len(dataset)-time_step-1):\n",
    "        X.append(dataset[i:(i+time_step), 0])\n",
    "        y.append(dataset[i + time_step, 0])\n",
    "    return np.array(X), np.array(y)\n"
   ]
  },
  {
   "cell_type": "code",
   "execution_count": 76,
   "id": "c6ef042e-ce37-42d9-9d3e-30c5ac255ede",
   "metadata": {
    "tags": []
   },
   "outputs": [],
   "source": [
    "time_step = 12\n",
    "X_train, y_train = create_dataset(train_series, time_step)\n",
    "X_test, y_test = create_dataset(test_series, time_step)"
   ]
  },
  {
   "cell_type": "code",
   "execution_count": 77,
   "id": "54e99953-bd9e-46a9-88d6-eb7b6c0e105a",
   "metadata": {
    "tags": []
   },
   "outputs": [],
   "source": [
    "X_train = np.reshape(X_train, (X_train.shape[0], X_train.shape[1], 1))\n",
    "X_test = np.reshape(X_test, (X_test.shape[0], X_test.shape[1], 1))"
   ]
  },
  {
   "cell_type": "code",
   "execution_count": 78,
   "id": "60803276-0461-471c-9693-e8e21328e223",
   "metadata": {
    "tags": []
   },
   "outputs": [],
   "source": [
    "model = Sequential()\n",
    "model.add(LSTM(units=50, return_sequences=True, input_shape=(time_step, 1)))\n",
    "model.add(LSTM(units=50))\n",
    "model.add(Dense(units=1))\n",
    "model.compile(optimizer='adam', loss='mean_squared_error')"
   ]
  },
  {
   "cell_type": "code",
   "execution_count": 79,
   "id": "00806bd1-0da5-460e-8bb8-6f6771ca4b20",
   "metadata": {
    "tags": []
   },
   "outputs": [
    {
     "name": "stdout",
     "output_type": "stream",
     "text": [
      "Epoch 1/100\n",
      "\u001b[1m2740/2740\u001b[0m \u001b[32m━━━━━━━━━━━━━━━━━━━━\u001b[0m\u001b[37m\u001b[0m \u001b[1m28s\u001b[0m 10ms/step - loss: 0.0063\n",
      "Epoch 2/100\n",
      "\u001b[1m2740/2740\u001b[0m \u001b[32m━━━━━━━━━━━━━━━━━━━━\u001b[0m\u001b[37m\u001b[0m \u001b[1m23s\u001b[0m 8ms/step - loss: 0.0010\n",
      "Epoch 3/100\n",
      "\u001b[1m2740/2740\u001b[0m \u001b[32m━━━━━━━━━━━━━━━━━━━━\u001b[0m\u001b[37m\u001b[0m \u001b[1m23s\u001b[0m 8ms/step - loss: 8.4835e-04\n",
      "Epoch 4/100\n",
      "\u001b[1m2740/2740\u001b[0m \u001b[32m━━━━━━━━━━━━━━━━━━━━\u001b[0m\u001b[37m\u001b[0m \u001b[1m22s\u001b[0m 8ms/step - loss: 9.6804e-04\n",
      "Epoch 5/100\n",
      "\u001b[1m2740/2740\u001b[0m \u001b[32m━━━━━━━━━━━━━━━━━━━━\u001b[0m\u001b[37m\u001b[0m \u001b[1m22s\u001b[0m 8ms/step - loss: 0.0011\n",
      "Epoch 6/100\n",
      "\u001b[1m2740/2740\u001b[0m \u001b[32m━━━━━━━━━━━━━━━━━━━━\u001b[0m\u001b[37m\u001b[0m \u001b[1m21s\u001b[0m 8ms/step - loss: 8.8807e-04\n",
      "Epoch 7/100\n",
      "\u001b[1m2740/2740\u001b[0m \u001b[32m━━━━━━━━━━━━━━━━━━━━\u001b[0m\u001b[37m\u001b[0m \u001b[1m22s\u001b[0m 8ms/step - loss: 8.8145e-04\n",
      "Epoch 8/100\n",
      "\u001b[1m2740/2740\u001b[0m \u001b[32m━━━━━━━━━━━━━━━━━━━━\u001b[0m\u001b[37m\u001b[0m \u001b[1m22s\u001b[0m 8ms/step - loss: 0.0012\n",
      "Epoch 9/100\n",
      "\u001b[1m2740/2740\u001b[0m \u001b[32m━━━━━━━━━━━━━━━━━━━━\u001b[0m\u001b[37m\u001b[0m \u001b[1m24s\u001b[0m 9ms/step - loss: 0.0010\n",
      "Epoch 10/100\n",
      "\u001b[1m2740/2740\u001b[0m \u001b[32m━━━━━━━━━━━━━━━━━━━━\u001b[0m\u001b[37m\u001b[0m \u001b[1m21s\u001b[0m 8ms/step - loss: 7.1011e-04\n",
      "Epoch 11/100\n",
      "\u001b[1m2740/2740\u001b[0m \u001b[32m━━━━━━━━━━━━━━━━━━━━\u001b[0m\u001b[37m\u001b[0m \u001b[1m23s\u001b[0m 8ms/step - loss: 9.8837e-04\n",
      "Epoch 12/100\n",
      "\u001b[1m2740/2740\u001b[0m \u001b[32m━━━━━━━━━━━━━━━━━━━━\u001b[0m\u001b[37m\u001b[0m \u001b[1m24s\u001b[0m 9ms/step - loss: 9.4282e-04\n",
      "Epoch 13/100\n",
      "\u001b[1m2740/2740\u001b[0m \u001b[32m━━━━━━━━━━━━━━━━━━━━\u001b[0m\u001b[37m\u001b[0m \u001b[1m311s\u001b[0m 114ms/step - loss: 9.8325e-04\n",
      "Epoch 14/100\n",
      "\u001b[1m2740/2740\u001b[0m \u001b[32m━━━━━━━━━━━━━━━━━━━━\u001b[0m\u001b[37m\u001b[0m \u001b[1m25s\u001b[0m 9ms/step - loss: 8.8203e-04\n",
      "Epoch 15/100\n",
      "\u001b[1m2740/2740\u001b[0m \u001b[32m━━━━━━━━━━━━━━━━━━━━\u001b[0m\u001b[37m\u001b[0m \u001b[1m24s\u001b[0m 9ms/step - loss: 0.0010\n",
      "Epoch 16/100\n",
      "\u001b[1m2740/2740\u001b[0m \u001b[32m━━━━━━━━━━━━━━━━━━━━\u001b[0m\u001b[37m\u001b[0m \u001b[1m24s\u001b[0m 9ms/step - loss: 9.4871e-04\n",
      "Epoch 17/100\n",
      "\u001b[1m2740/2740\u001b[0m \u001b[32m━━━━━━━━━━━━━━━━━━━━\u001b[0m\u001b[37m\u001b[0m \u001b[1m24s\u001b[0m 9ms/step - loss: 0.0010\n",
      "Epoch 18/100\n",
      "\u001b[1m2740/2740\u001b[0m \u001b[32m━━━━━━━━━━━━━━━━━━━━\u001b[0m\u001b[37m\u001b[0m \u001b[1m24s\u001b[0m 9ms/step - loss: 9.7040e-04\n",
      "Epoch 19/100\n",
      "\u001b[1m2740/2740\u001b[0m \u001b[32m━━━━━━━━━━━━━━━━━━━━\u001b[0m\u001b[37m\u001b[0m \u001b[1m25s\u001b[0m 9ms/step - loss: 8.5583e-04\n",
      "Epoch 20/100\n",
      "\u001b[1m2740/2740\u001b[0m \u001b[32m━━━━━━━━━━━━━━━━━━━━\u001b[0m\u001b[37m\u001b[0m \u001b[1m25s\u001b[0m 9ms/step - loss: 7.7801e-04\n",
      "Epoch 21/100\n",
      "\u001b[1m2740/2740\u001b[0m \u001b[32m━━━━━━━━━━━━━━━━━━━━\u001b[0m\u001b[37m\u001b[0m \u001b[1m24s\u001b[0m 9ms/step - loss: 8.9971e-04\n",
      "Epoch 22/100\n",
      "\u001b[1m2740/2740\u001b[0m \u001b[32m━━━━━━━━━━━━━━━━━━━━\u001b[0m\u001b[37m\u001b[0m \u001b[1m24s\u001b[0m 9ms/step - loss: 7.9205e-04\n",
      "Epoch 23/100\n",
      "\u001b[1m2740/2740\u001b[0m \u001b[32m━━━━━━━━━━━━━━━━━━━━\u001b[0m\u001b[37m\u001b[0m \u001b[1m26s\u001b[0m 9ms/step - loss: 8.3230e-04\n",
      "Epoch 24/100\n",
      "\u001b[1m2740/2740\u001b[0m \u001b[32m━━━━━━━━━━━━━━━━━━━━\u001b[0m\u001b[37m\u001b[0m \u001b[1m25s\u001b[0m 9ms/step - loss: 8.4164e-04\n",
      "Epoch 25/100\n",
      "\u001b[1m2740/2740\u001b[0m \u001b[32m━━━━━━━━━━━━━━━━━━━━\u001b[0m\u001b[37m\u001b[0m \u001b[1m24s\u001b[0m 9ms/step - loss: 7.3949e-04\n",
      "Epoch 26/100\n",
      "\u001b[1m2740/2740\u001b[0m \u001b[32m━━━━━━━━━━━━━━━━━━━━\u001b[0m\u001b[37m\u001b[0m \u001b[1m24s\u001b[0m 9ms/step - loss: 9.0753e-04\n",
      "Epoch 27/100\n",
      "\u001b[1m2740/2740\u001b[0m \u001b[32m━━━━━━━━━━━━━━━━━━━━\u001b[0m\u001b[37m\u001b[0m \u001b[1m21s\u001b[0m 8ms/step - loss: 8.9266e-04\n",
      "Epoch 28/100\n",
      "\u001b[1m2740/2740\u001b[0m \u001b[32m━━━━━━━━━━━━━━━━━━━━\u001b[0m\u001b[37m\u001b[0m \u001b[1m20s\u001b[0m 7ms/step - loss: 8.0753e-04\n",
      "Epoch 29/100\n",
      "\u001b[1m2740/2740\u001b[0m \u001b[32m━━━━━━━━━━━━━━━━━━━━\u001b[0m\u001b[37m\u001b[0m \u001b[1m19s\u001b[0m 7ms/step - loss: 9.4780e-04\n",
      "Epoch 30/100\n",
      "\u001b[1m2740/2740\u001b[0m \u001b[32m━━━━━━━━━━━━━━━━━━━━\u001b[0m\u001b[37m\u001b[0m \u001b[1m21s\u001b[0m 8ms/step - loss: 8.8136e-04\n",
      "Epoch 31/100\n",
      "\u001b[1m2740/2740\u001b[0m \u001b[32m━━━━━━━━━━━━━━━━━━━━\u001b[0m\u001b[37m\u001b[0m \u001b[1m19s\u001b[0m 7ms/step - loss: 0.0011\n",
      "Epoch 32/100\n",
      "\u001b[1m2740/2740\u001b[0m \u001b[32m━━━━━━━━━━━━━━━━━━━━\u001b[0m\u001b[37m\u001b[0m \u001b[1m21s\u001b[0m 8ms/step - loss: 9.8943e-04\n",
      "Epoch 33/100\n",
      "\u001b[1m2740/2740\u001b[0m \u001b[32m━━━━━━━━━━━━━━━━━━━━\u001b[0m\u001b[37m\u001b[0m \u001b[1m22s\u001b[0m 8ms/step - loss: 8.8355e-04\n",
      "Epoch 34/100\n",
      "\u001b[1m2740/2740\u001b[0m \u001b[32m━━━━━━━━━━━━━━━━━━━━\u001b[0m\u001b[37m\u001b[0m \u001b[1m20s\u001b[0m 7ms/step - loss: 7.7019e-04\n",
      "Epoch 35/100\n",
      "\u001b[1m2740/2740\u001b[0m \u001b[32m━━━━━━━━━━━━━━━━━━━━\u001b[0m\u001b[37m\u001b[0m \u001b[1m20s\u001b[0m 7ms/step - loss: 8.6250e-04\n",
      "Epoch 36/100\n",
      "\u001b[1m2740/2740\u001b[0m \u001b[32m━━━━━━━━━━━━━━━━━━━━\u001b[0m\u001b[37m\u001b[0m \u001b[1m25s\u001b[0m 9ms/step - loss: 9.1027e-04\n",
      "Epoch 37/100\n",
      "\u001b[1m2740/2740\u001b[0m \u001b[32m━━━━━━━━━━━━━━━━━━━━\u001b[0m\u001b[37m\u001b[0m \u001b[1m21s\u001b[0m 8ms/step - loss: 8.3510e-04\n",
      "Epoch 38/100\n",
      "\u001b[1m2740/2740\u001b[0m \u001b[32m━━━━━━━━━━━━━━━━━━━━\u001b[0m\u001b[37m\u001b[0m \u001b[1m20s\u001b[0m 7ms/step - loss: 8.7019e-04\n",
      "Epoch 39/100\n",
      "\u001b[1m2740/2740\u001b[0m \u001b[32m━━━━━━━━━━━━━━━━━━━━\u001b[0m\u001b[37m\u001b[0m \u001b[1m20s\u001b[0m 7ms/step - loss: 9.5437e-04\n",
      "Epoch 40/100\n",
      "\u001b[1m2740/2740\u001b[0m \u001b[32m━━━━━━━━━━━━━━━━━━━━\u001b[0m\u001b[37m\u001b[0m \u001b[1m21s\u001b[0m 8ms/step - loss: 9.2643e-04\n",
      "Epoch 41/100\n",
      "\u001b[1m2740/2740\u001b[0m \u001b[32m━━━━━━━━━━━━━━━━━━━━\u001b[0m\u001b[37m\u001b[0m \u001b[1m20s\u001b[0m 7ms/step - loss: 8.3690e-04\n",
      "Epoch 42/100\n",
      "\u001b[1m2740/2740\u001b[0m \u001b[32m━━━━━━━━━━━━━━━━━━━━\u001b[0m\u001b[37m\u001b[0m \u001b[1m21s\u001b[0m 7ms/step - loss: 8.0879e-04\n",
      "Epoch 43/100\n",
      "\u001b[1m2740/2740\u001b[0m \u001b[32m━━━━━━━━━━━━━━━━━━━━\u001b[0m\u001b[37m\u001b[0m \u001b[1m20s\u001b[0m 7ms/step - loss: 8.7948e-04\n",
      "Epoch 44/100\n",
      "\u001b[1m2740/2740\u001b[0m \u001b[32m━━━━━━━━━━━━━━━━━━━━\u001b[0m\u001b[37m\u001b[0m \u001b[1m21s\u001b[0m 8ms/step - loss: 9.5085e-04\n",
      "Epoch 45/100\n",
      "\u001b[1m2740/2740\u001b[0m \u001b[32m━━━━━━━━━━━━━━━━━━━━\u001b[0m\u001b[37m\u001b[0m \u001b[1m21s\u001b[0m 8ms/step - loss: 0.0010\n",
      "Epoch 46/100\n",
      "\u001b[1m2740/2740\u001b[0m \u001b[32m━━━━━━━━━━━━━━━━━━━━\u001b[0m\u001b[37m\u001b[0m \u001b[1m20s\u001b[0m 7ms/step - loss: 9.0128e-04\n",
      "Epoch 47/100\n",
      "\u001b[1m2740/2740\u001b[0m \u001b[32m━━━━━━━━━━━━━━━━━━━━\u001b[0m\u001b[37m\u001b[0m \u001b[1m21s\u001b[0m 8ms/step - loss: 8.1301e-04\n",
      "Epoch 48/100\n",
      "\u001b[1m2740/2740\u001b[0m \u001b[32m━━━━━━━━━━━━━━━━━━━━\u001b[0m\u001b[37m\u001b[0m \u001b[1m21s\u001b[0m 8ms/step - loss: 0.0010\n",
      "Epoch 49/100\n",
      "\u001b[1m2740/2740\u001b[0m \u001b[32m━━━━━━━━━━━━━━━━━━━━\u001b[0m\u001b[37m\u001b[0m \u001b[1m21s\u001b[0m 8ms/step - loss: 8.7363e-04\n",
      "Epoch 50/100\n",
      "\u001b[1m2740/2740\u001b[0m \u001b[32m━━━━━━━━━━━━━━━━━━━━\u001b[0m\u001b[37m\u001b[0m \u001b[1m21s\u001b[0m 8ms/step - loss: 9.3944e-04\n",
      "Epoch 51/100\n",
      "\u001b[1m2740/2740\u001b[0m \u001b[32m━━━━━━━━━━━━━━━━━━━━\u001b[0m\u001b[37m\u001b[0m \u001b[1m20s\u001b[0m 7ms/step - loss: 8.1806e-04\n",
      "Epoch 52/100\n",
      "\u001b[1m2740/2740\u001b[0m \u001b[32m━━━━━━━━━━━━━━━━━━━━\u001b[0m\u001b[37m\u001b[0m \u001b[1m21s\u001b[0m 8ms/step - loss: 6.7033e-04\n",
      "Epoch 53/100\n",
      "\u001b[1m2740/2740\u001b[0m \u001b[32m━━━━━━━━━━━━━━━━━━━━\u001b[0m\u001b[37m\u001b[0m \u001b[1m22s\u001b[0m 8ms/step - loss: 7.8223e-04\n",
      "Epoch 54/100\n",
      "\u001b[1m2740/2740\u001b[0m \u001b[32m━━━━━━━━━━━━━━━━━━━━\u001b[0m\u001b[37m\u001b[0m \u001b[1m22s\u001b[0m 8ms/step - loss: 8.3689e-04\n",
      "Epoch 55/100\n",
      "\u001b[1m2740/2740\u001b[0m \u001b[32m━━━━━━━━━━━━━━━━━━━━\u001b[0m\u001b[37m\u001b[0m \u001b[1m20s\u001b[0m 7ms/step - loss: 9.0130e-04\n",
      "Epoch 56/100\n",
      "\u001b[1m2740/2740\u001b[0m \u001b[32m━━━━━━━━━━━━━━━━━━━━\u001b[0m\u001b[37m\u001b[0m \u001b[1m20s\u001b[0m 7ms/step - loss: 9.7236e-04\n",
      "Epoch 57/100\n",
      "\u001b[1m2740/2740\u001b[0m \u001b[32m━━━━━━━━━━━━━━━━━━━━\u001b[0m\u001b[37m\u001b[0m \u001b[1m21s\u001b[0m 8ms/step - loss: 8.1393e-04\n",
      "Epoch 58/100\n",
      "\u001b[1m2740/2740\u001b[0m \u001b[32m━━━━━━━━━━━━━━━━━━━━\u001b[0m\u001b[37m\u001b[0m \u001b[1m20s\u001b[0m 7ms/step - loss: 0.0010\n",
      "Epoch 59/100\n",
      "\u001b[1m2740/2740\u001b[0m \u001b[32m━━━━━━━━━━━━━━━━━━━━\u001b[0m\u001b[37m\u001b[0m \u001b[1m21s\u001b[0m 7ms/step - loss: 8.7158e-04\n",
      "Epoch 60/100\n",
      "\u001b[1m2740/2740\u001b[0m \u001b[32m━━━━━━━━━━━━━━━━━━━━\u001b[0m\u001b[37m\u001b[0m \u001b[1m21s\u001b[0m 8ms/step - loss: 0.0010\n",
      "Epoch 61/100\n",
      "\u001b[1m2740/2740\u001b[0m \u001b[32m━━━━━━━━━━━━━━━━━━━━\u001b[0m\u001b[37m\u001b[0m \u001b[1m23s\u001b[0m 8ms/step - loss: 9.1309e-04\n",
      "Epoch 62/100\n",
      "\u001b[1m2740/2740\u001b[0m \u001b[32m━━━━━━━━━━━━━━━━━━━━\u001b[0m\u001b[37m\u001b[0m \u001b[1m103s\u001b[0m 38ms/step - loss: 0.0011\n",
      "Epoch 63/100\n",
      "\u001b[1m2740/2740\u001b[0m \u001b[32m━━━━━━━━━━━━━━━━━━━━\u001b[0m\u001b[37m\u001b[0m \u001b[1m25s\u001b[0m 9ms/step - loss: 9.5154e-04\n",
      "Epoch 64/100\n",
      "\u001b[1m2740/2740\u001b[0m \u001b[32m━━━━━━━━━━━━━━━━━━━━\u001b[0m\u001b[37m\u001b[0m \u001b[1m24s\u001b[0m 9ms/step - loss: 8.3979e-04\n",
      "Epoch 65/100\n",
      "\u001b[1m2740/2740\u001b[0m \u001b[32m━━━━━━━━━━━━━━━━━━━━\u001b[0m\u001b[37m\u001b[0m \u001b[1m21s\u001b[0m 8ms/step - loss: 9.8925e-04\n",
      "Epoch 66/100\n",
      "\u001b[1m2740/2740\u001b[0m \u001b[32m━━━━━━━━━━━━━━━━━━━━\u001b[0m\u001b[37m\u001b[0m \u001b[1m23s\u001b[0m 8ms/step - loss: 8.6365e-04\n",
      "Epoch 67/100\n",
      "\u001b[1m2740/2740\u001b[0m \u001b[32m━━━━━━━━━━━━━━━━━━━━\u001b[0m\u001b[37m\u001b[0m \u001b[1m22s\u001b[0m 8ms/step - loss: 8.8821e-04\n",
      "Epoch 68/100\n",
      "\u001b[1m2740/2740\u001b[0m \u001b[32m━━━━━━━━━━━━━━━━━━━━\u001b[0m\u001b[37m\u001b[0m \u001b[1m22s\u001b[0m 8ms/step - loss: 9.1873e-04\n",
      "Epoch 69/100\n",
      "\u001b[1m2740/2740\u001b[0m \u001b[32m━━━━━━━━━━━━━━━━━━━━\u001b[0m\u001b[37m\u001b[0m \u001b[1m21s\u001b[0m 8ms/step - loss: 7.7963e-04\n",
      "Epoch 70/100\n",
      "\u001b[1m2740/2740\u001b[0m \u001b[32m━━━━━━━━━━━━━━━━━━━━\u001b[0m\u001b[37m\u001b[0m \u001b[1m22s\u001b[0m 8ms/step - loss: 7.4042e-04\n",
      "Epoch 71/100\n",
      "\u001b[1m2740/2740\u001b[0m \u001b[32m━━━━━━━━━━━━━━━━━━━━\u001b[0m\u001b[37m\u001b[0m \u001b[1m22s\u001b[0m 8ms/step - loss: 8.9565e-04\n",
      "Epoch 72/100\n",
      "\u001b[1m2740/2740\u001b[0m \u001b[32m━━━━━━━━━━━━━━━━━━━━\u001b[0m\u001b[37m\u001b[0m \u001b[1m22s\u001b[0m 8ms/step - loss: 7.9496e-04\n",
      "Epoch 73/100\n",
      "\u001b[1m2740/2740\u001b[0m \u001b[32m━━━━━━━━━━━━━━━━━━━━\u001b[0m\u001b[37m\u001b[0m \u001b[1m22s\u001b[0m 8ms/step - loss: 8.1956e-04\n",
      "Epoch 74/100\n",
      "\u001b[1m2740/2740\u001b[0m \u001b[32m━━━━━━━━━━━━━━━━━━━━\u001b[0m\u001b[37m\u001b[0m \u001b[1m23s\u001b[0m 8ms/step - loss: 0.0011\n",
      "Epoch 75/100\n",
      "\u001b[1m2740/2740\u001b[0m \u001b[32m━━━━━━━━━━━━━━━━━━━━\u001b[0m\u001b[37m\u001b[0m \u001b[1m120s\u001b[0m 44ms/step - loss: 7.9265e-04\n",
      "Epoch 76/100\n",
      "\u001b[1m2740/2740\u001b[0m \u001b[32m━━━━━━━━━━━━━━━━━━━━\u001b[0m\u001b[37m\u001b[0m \u001b[1m23s\u001b[0m 8ms/step - loss: 7.5541e-04\n",
      "Epoch 77/100\n",
      "\u001b[1m2740/2740\u001b[0m \u001b[32m━━━━━━━━━━━━━━━━━━━━\u001b[0m\u001b[37m\u001b[0m \u001b[1m22s\u001b[0m 8ms/step - loss: 7.4798e-04\n",
      "Epoch 78/100\n",
      "\u001b[1m2740/2740\u001b[0m \u001b[32m━━━━━━━━━━━━━━━━━━━━\u001b[0m\u001b[37m\u001b[0m \u001b[1m22s\u001b[0m 8ms/step - loss: 6.9386e-04\n",
      "Epoch 79/100\n",
      "\u001b[1m2740/2740\u001b[0m \u001b[32m━━━━━━━━━━━━━━━━━━━━\u001b[0m\u001b[37m\u001b[0m \u001b[1m22s\u001b[0m 8ms/step - loss: 0.0010\n",
      "Epoch 80/100\n",
      "\u001b[1m2740/2740\u001b[0m \u001b[32m━━━━━━━━━━━━━━━━━━━━\u001b[0m\u001b[37m\u001b[0m \u001b[1m22s\u001b[0m 8ms/step - loss: 7.9799e-04\n",
      "Epoch 81/100\n",
      "\u001b[1m2740/2740\u001b[0m \u001b[32m━━━━━━━━━━━━━━━━━━━━\u001b[0m\u001b[37m\u001b[0m \u001b[1m23s\u001b[0m 8ms/step - loss: 8.6677e-04\n",
      "Epoch 82/100\n",
      "\u001b[1m2740/2740\u001b[0m \u001b[32m━━━━━━━━━━━━━━━━━━━━\u001b[0m\u001b[37m\u001b[0m \u001b[1m22s\u001b[0m 8ms/step - loss: 9.1063e-04\n",
      "Epoch 83/100\n",
      "\u001b[1m2740/2740\u001b[0m \u001b[32m━━━━━━━━━━━━━━━━━━━━\u001b[0m\u001b[37m\u001b[0m \u001b[1m25s\u001b[0m 9ms/step - loss: 8.6734e-04\n",
      "Epoch 84/100\n",
      "\u001b[1m2740/2740\u001b[0m \u001b[32m━━━━━━━━━━━━━━━━━━━━\u001b[0m\u001b[37m\u001b[0m \u001b[1m25s\u001b[0m 9ms/step - loss: 8.1830e-04\n",
      "Epoch 85/100\n",
      "\u001b[1m2740/2740\u001b[0m \u001b[32m━━━━━━━━━━━━━━━━━━━━\u001b[0m\u001b[37m\u001b[0m \u001b[1m24s\u001b[0m 9ms/step - loss: 6.7999e-04\n",
      "Epoch 86/100\n",
      "\u001b[1m2740/2740\u001b[0m \u001b[32m━━━━━━━━━━━━━━━━━━━━\u001b[0m\u001b[37m\u001b[0m \u001b[1m23s\u001b[0m 9ms/step - loss: 8.7113e-04\n",
      "Epoch 87/100\n",
      "\u001b[1m2740/2740\u001b[0m \u001b[32m━━━━━━━━━━━━━━━━━━━━\u001b[0m\u001b[37m\u001b[0m \u001b[1m23s\u001b[0m 8ms/step - loss: 7.9580e-04\n",
      "Epoch 88/100\n",
      "\u001b[1m2740/2740\u001b[0m \u001b[32m━━━━━━━━━━━━━━━━━━━━\u001b[0m\u001b[37m\u001b[0m \u001b[1m23s\u001b[0m 9ms/step - loss: 9.8142e-04\n",
      "Epoch 89/100\n",
      "\u001b[1m2740/2740\u001b[0m \u001b[32m━━━━━━━━━━━━━━━━━━━━\u001b[0m\u001b[37m\u001b[0m \u001b[1m23s\u001b[0m 8ms/step - loss: 9.0302e-04\n",
      "Epoch 90/100\n",
      "\u001b[1m2740/2740\u001b[0m \u001b[32m━━━━━━━━━━━━━━━━━━━━\u001b[0m\u001b[37m\u001b[0m \u001b[1m22s\u001b[0m 8ms/step - loss: 7.7433e-04\n",
      "Epoch 91/100\n",
      "\u001b[1m2740/2740\u001b[0m \u001b[32m━━━━━━━━━━━━━━━━━━━━\u001b[0m\u001b[37m\u001b[0m \u001b[1m22s\u001b[0m 8ms/step - loss: 7.5019e-04\n",
      "Epoch 92/100\n",
      "\u001b[1m2740/2740\u001b[0m \u001b[32m━━━━━━━━━━━━━━━━━━━━\u001b[0m\u001b[37m\u001b[0m \u001b[1m24s\u001b[0m 9ms/step - loss: 7.9940e-04\n",
      "Epoch 93/100\n",
      "\u001b[1m2740/2740\u001b[0m \u001b[32m━━━━━━━━━━━━━━━━━━━━\u001b[0m\u001b[37m\u001b[0m \u001b[1m24s\u001b[0m 9ms/step - loss: 8.7164e-04\n",
      "Epoch 94/100\n",
      "\u001b[1m2740/2740\u001b[0m \u001b[32m━━━━━━━━━━━━━━━━━━━━\u001b[0m\u001b[37m\u001b[0m \u001b[1m23s\u001b[0m 8ms/step - loss: 7.5892e-04\n",
      "Epoch 95/100\n",
      "\u001b[1m2740/2740\u001b[0m \u001b[32m━━━━━━━━━━━━━━━━━━━━\u001b[0m\u001b[37m\u001b[0m \u001b[1m22s\u001b[0m 8ms/step - loss: 8.7448e-04\n",
      "Epoch 96/100\n",
      "\u001b[1m2740/2740\u001b[0m \u001b[32m━━━━━━━━━━━━━━━━━━━━\u001b[0m\u001b[37m\u001b[0m \u001b[1m23s\u001b[0m 8ms/step - loss: 9.5169e-04\n",
      "Epoch 97/100\n",
      "\u001b[1m2740/2740\u001b[0m \u001b[32m━━━━━━━━━━━━━━━━━━━━\u001b[0m\u001b[37m\u001b[0m \u001b[1m25s\u001b[0m 9ms/step - loss: 9.7061e-04\n",
      "Epoch 98/100\n",
      "\u001b[1m2740/2740\u001b[0m \u001b[32m━━━━━━━━━━━━━━━━━━━━\u001b[0m\u001b[37m\u001b[0m \u001b[1m24s\u001b[0m 9ms/step - loss: 7.8810e-04\n",
      "Epoch 99/100\n",
      "\u001b[1m2740/2740\u001b[0m \u001b[32m━━━━━━━━━━━━━━━━━━━━\u001b[0m\u001b[37m\u001b[0m \u001b[1m25s\u001b[0m 9ms/step - loss: 7.7425e-04\n",
      "Epoch 100/100\n",
      "\u001b[1m2740/2740\u001b[0m \u001b[32m━━━━━━━━━━━━━━━━━━━━\u001b[0m\u001b[37m\u001b[0m \u001b[1m22s\u001b[0m 8ms/step - loss: 6.8442e-04\n"
     ]
    },
    {
     "data": {
      "text/plain": [
       "<keras.src.callbacks.history.History at 0x204bcd24b50>"
      ]
     },
     "execution_count": 79,
     "metadata": {},
     "output_type": "execute_result"
    }
   ],
   "source": [
    "model.fit(X_train, y_train, epochs=100, batch_size=32)"
   ]
  },
  {
   "cell_type": "code",
   "execution_count": 96,
   "id": "04606b76-7b44-4adc-9333-97290a883780",
   "metadata": {
    "tags": []
   },
   "outputs": [
    {
     "name": "stdout",
     "output_type": "stream",
     "text": [
      "\u001b[1m685/685\u001b[0m \u001b[32m━━━━━━━━━━━━━━━━━━━━\u001b[0m\u001b[37m\u001b[0m \u001b[1m2s\u001b[0m 3ms/step\n"
     ]
    }
   ],
   "source": [
    "predictions = model.predict(X_test)"
   ]
  },
  {
   "cell_type": "code",
   "execution_count": 97,
   "id": "ecf05a09-5937-4e18-8a4c-531d61d27d7d",
   "metadata": {
    "tags": []
   },
   "outputs": [],
   "source": [
    "from sklearn.metrics import mean_absolute_percentage_error"
   ]
  },
  {
   "cell_type": "code",
   "execution_count": 98,
   "id": "c4b2ab30-b1f4-481c-bb9e-635529a0f8e0",
   "metadata": {
    "tags": []
   },
   "outputs": [],
   "source": [
    "predictions = predictions.reshape(-1)\n",
    "y_test = y_test.reshape(-1)"
   ]
  },
  {
   "cell_type": "code",
   "execution_count": 99,
   "id": "b3760687-6662-4174-8371-3bc56041bca8",
   "metadata": {
    "tags": []
   },
   "outputs": [],
   "source": [
    "mape = mean_absolute_percentage_error(y_test, predictions)"
   ]
  },
  {
   "cell_type": "code",
   "execution_count": 101,
   "id": "07761d50-dd4d-4df2-9169-40c86972e616",
   "metadata": {
    "tags": []
   },
   "outputs": [
    {
     "name": "stdout",
     "output_type": "stream",
     "text": [
      "Mean Absolute Percentage Error (MAPE): 3757462196504.6567\n"
     ]
    }
   ],
   "source": [
    "print(\"Mean Absolute Percentage Error (MAPE):\", mape)"
   ]
  },
  {
   "cell_type": "code",
   "execution_count": 102,
   "id": "5bbc6bf4-2e00-437a-a8ba-fd5d5aeafdc5",
   "metadata": {
    "tags": []
   },
   "outputs": [
    {
     "name": "stdout",
     "output_type": "stream",
     "text": [
      "The model performes well.\n"
     ]
    }
   ],
   "source": [
    "if mape < 0.1:\n",
    "    print(\"The model has excellent performance.\")\n",
    "\n",
    "else:\n",
    "    print(\"The model performes well.\")"
   ]
  },
  {
   "cell_type": "code",
   "execution_count": 103,
   "id": "e196c956-de11-47cd-a5d9-ad525fe68dc4",
   "metadata": {
    "tags": []
   },
   "outputs": [],
   "source": [
    "X_full, y_full = create_dataset(scaled_data, time_step)\n",
    "X_full = np.reshape(X_full, (X_full.shape[0], X_full.shape[1], 1))"
   ]
  },
  {
   "cell_type": "code",
   "execution_count": 88,
   "id": "5f5266ca-9a69-4337-bce0-1bf05ae7e096",
   "metadata": {
    "tags": []
   },
   "outputs": [],
   "source": [
    "model_full = Sequential()\n",
    "model_full.add(LSTM(units=50, return_sequences=True, input_shape=(time_step, 1)))"
   ]
  },
  {
   "cell_type": "code",
   "execution_count": 89,
   "id": "cabbd9e8-2902-4df9-97f6-f167df5995fa",
   "metadata": {
    "tags": []
   },
   "outputs": [],
   "source": [
    "model_full.add(LSTM(units=50))"
   ]
  },
  {
   "cell_type": "code",
   "execution_count": 90,
   "id": "fb615651-b8d0-48f0-b9f7-4c7761771461",
   "metadata": {
    "tags": []
   },
   "outputs": [],
   "source": [
    "model_full.add(Dense(units=1))\n",
    "model_full.compile(optimizer='adam', loss='mean_squared_error')"
   ]
  },
  {
   "cell_type": "code",
   "execution_count": 91,
   "id": "bb2d8b62-5a5a-4c84-91e8-88038f659286",
   "metadata": {
    "tags": []
   },
   "outputs": [
    {
     "name": "stdout",
     "output_type": "stream",
     "text": [
      "Epoch 1/100\n",
      "\u001b[1m3425/3425\u001b[0m \u001b[32m━━━━━━━━━━━━━━━━━━━━\u001b[0m\u001b[37m\u001b[0m \u001b[1m26s\u001b[0m 7ms/step - loss: 0.0055\n",
      "Epoch 2/100\n",
      "\u001b[1m3425/3425\u001b[0m \u001b[32m━━━━━━━━━━━━━━━━━━━━\u001b[0m\u001b[37m\u001b[0m \u001b[1m26s\u001b[0m 8ms/step - loss: 0.0011\n",
      "Epoch 3/100\n",
      "\u001b[1m3425/3425\u001b[0m \u001b[32m━━━━━━━━━━━━━━━━━━━━\u001b[0m\u001b[37m\u001b[0m \u001b[1m24s\u001b[0m 7ms/step - loss: 7.6937e-04\n",
      "Epoch 4/100\n",
      "\u001b[1m3425/3425\u001b[0m \u001b[32m━━━━━━━━━━━━━━━━━━━━\u001b[0m\u001b[37m\u001b[0m \u001b[1m26s\u001b[0m 7ms/step - loss: 9.3615e-04\n",
      "Epoch 5/100\n",
      "\u001b[1m3425/3425\u001b[0m \u001b[32m━━━━━━━━━━━━━━━━━━━━\u001b[0m\u001b[37m\u001b[0m \u001b[1m24s\u001b[0m 7ms/step - loss: 8.2302e-04\n",
      "Epoch 6/100\n",
      "\u001b[1m3425/3425\u001b[0m \u001b[32m━━━━━━━━━━━━━━━━━━━━\u001b[0m\u001b[37m\u001b[0m \u001b[1m25s\u001b[0m 7ms/step - loss: 8.4894e-04\n",
      "Epoch 7/100\n",
      "\u001b[1m3425/3425\u001b[0m \u001b[32m━━━━━━━━━━━━━━━━━━━━\u001b[0m\u001b[37m\u001b[0m \u001b[1m24s\u001b[0m 7ms/step - loss: 8.0114e-04\n",
      "Epoch 8/100\n",
      "\u001b[1m3425/3425\u001b[0m \u001b[32m━━━━━━━━━━━━━━━━━━━━\u001b[0m\u001b[37m\u001b[0m \u001b[1m24s\u001b[0m 7ms/step - loss: 8.9181e-04\n",
      "Epoch 9/100\n",
      "\u001b[1m3425/3425\u001b[0m \u001b[32m━━━━━━━━━━━━━━━━━━━━\u001b[0m\u001b[37m\u001b[0m \u001b[1m27s\u001b[0m 8ms/step - loss: 9.4268e-04\n",
      "Epoch 10/100\n",
      "\u001b[1m3425/3425\u001b[0m \u001b[32m━━━━━━━━━━━━━━━━━━━━\u001b[0m\u001b[37m\u001b[0m \u001b[1m27s\u001b[0m 8ms/step - loss: 0.0010\n",
      "Epoch 11/100\n",
      "\u001b[1m3425/3425\u001b[0m \u001b[32m━━━━━━━━━━━━━━━━━━━━\u001b[0m\u001b[37m\u001b[0m \u001b[1m26s\u001b[0m 8ms/step - loss: 8.3670e-04\n",
      "Epoch 12/100\n",
      "\u001b[1m3425/3425\u001b[0m \u001b[32m━━━━━━━━━━━━━━━━━━━━\u001b[0m\u001b[37m\u001b[0m \u001b[1m27s\u001b[0m 8ms/step - loss: 8.6019e-04\n",
      "Epoch 13/100\n",
      "\u001b[1m3425/3425\u001b[0m \u001b[32m━━━━━━━━━━━━━━━━━━━━\u001b[0m\u001b[37m\u001b[0m \u001b[1m26s\u001b[0m 8ms/step - loss: 9.0722e-04\n",
      "Epoch 14/100\n",
      "\u001b[1m3425/3425\u001b[0m \u001b[32m━━━━━━━━━━━━━━━━━━━━\u001b[0m\u001b[37m\u001b[0m \u001b[1m26s\u001b[0m 8ms/step - loss: 9.9958e-04\n",
      "Epoch 15/100\n",
      "\u001b[1m3425/3425\u001b[0m \u001b[32m━━━━━━━━━━━━━━━━━━━━\u001b[0m\u001b[37m\u001b[0m \u001b[1m39s\u001b[0m 7ms/step - loss: 0.0011\n",
      "Epoch 16/100\n",
      "\u001b[1m3425/3425\u001b[0m \u001b[32m━━━━━━━━━━━━━━━━━━━━\u001b[0m\u001b[37m\u001b[0m \u001b[1m25s\u001b[0m 7ms/step - loss: 8.4337e-04\n",
      "Epoch 17/100\n",
      "\u001b[1m3425/3425\u001b[0m \u001b[32m━━━━━━━━━━━━━━━━━━━━\u001b[0m\u001b[37m\u001b[0m \u001b[1m25s\u001b[0m 7ms/step - loss: 6.7974e-04\n",
      "Epoch 18/100\n",
      "\u001b[1m3425/3425\u001b[0m \u001b[32m━━━━━━━━━━━━━━━━━━━━\u001b[0m\u001b[37m\u001b[0m \u001b[1m25s\u001b[0m 7ms/step - loss: 8.7911e-04\n",
      "Epoch 19/100\n",
      "\u001b[1m3425/3425\u001b[0m \u001b[32m━━━━━━━━━━━━━━━━━━━━\u001b[0m\u001b[37m\u001b[0m \u001b[1m27s\u001b[0m 8ms/step - loss: 8.4548e-04\n",
      "Epoch 20/100\n",
      "\u001b[1m3425/3425\u001b[0m \u001b[32m━━━━━━━━━━━━━━━━━━━━\u001b[0m\u001b[37m\u001b[0m \u001b[1m26s\u001b[0m 8ms/step - loss: 8.5571e-04\n",
      "Epoch 21/100\n",
      "\u001b[1m3425/3425\u001b[0m \u001b[32m━━━━━━━━━━━━━━━━━━━━\u001b[0m\u001b[37m\u001b[0m \u001b[1m28s\u001b[0m 8ms/step - loss: 7.7545e-04\n",
      "Epoch 22/100\n",
      "\u001b[1m3425/3425\u001b[0m \u001b[32m━━━━━━━━━━━━━━━━━━━━\u001b[0m\u001b[37m\u001b[0m \u001b[1m25s\u001b[0m 7ms/step - loss: 8.2493e-04\n",
      "Epoch 23/100\n",
      "\u001b[1m3425/3425\u001b[0m \u001b[32m━━━━━━━━━━━━━━━━━━━━\u001b[0m\u001b[37m\u001b[0m \u001b[1m25s\u001b[0m 7ms/step - loss: 9.3820e-04\n",
      "Epoch 24/100\n",
      "\u001b[1m3425/3425\u001b[0m \u001b[32m━━━━━━━━━━━━━━━━━━━━\u001b[0m\u001b[37m\u001b[0m \u001b[1m27s\u001b[0m 8ms/step - loss: 7.2731e-04\n",
      "Epoch 25/100\n",
      "\u001b[1m3425/3425\u001b[0m \u001b[32m━━━━━━━━━━━━━━━━━━━━\u001b[0m\u001b[37m\u001b[0m \u001b[1m25s\u001b[0m 7ms/step - loss: 8.7778e-04\n",
      "Epoch 26/100\n",
      "\u001b[1m3425/3425\u001b[0m \u001b[32m━━━━━━━━━━━━━━━━━━━━\u001b[0m\u001b[37m\u001b[0m \u001b[1m25s\u001b[0m 7ms/step - loss: 9.1041e-04\n",
      "Epoch 27/100\n",
      "\u001b[1m3425/3425\u001b[0m \u001b[32m━━━━━━━━━━━━━━━━━━━━\u001b[0m\u001b[37m\u001b[0m \u001b[1m25s\u001b[0m 7ms/step - loss: 9.2947e-04\n",
      "Epoch 28/100\n",
      "\u001b[1m3425/3425\u001b[0m \u001b[32m━━━━━━━━━━━━━━━━━━━━\u001b[0m\u001b[37m\u001b[0m \u001b[1m27s\u001b[0m 8ms/step - loss: 8.4642e-04\n",
      "Epoch 29/100\n",
      "\u001b[1m3425/3425\u001b[0m \u001b[32m━━━━━━━━━━━━━━━━━━━━\u001b[0m\u001b[37m\u001b[0m \u001b[1m27s\u001b[0m 8ms/step - loss: 8.1249e-04\n",
      "Epoch 30/100\n",
      "\u001b[1m3425/3425\u001b[0m \u001b[32m━━━━━━━━━━━━━━━━━━━━\u001b[0m\u001b[37m\u001b[0m \u001b[1m29s\u001b[0m 9ms/step - loss: 8.8966e-04\n",
      "Epoch 31/100\n",
      "\u001b[1m3425/3425\u001b[0m \u001b[32m━━━━━━━━━━━━━━━━━━━━\u001b[0m\u001b[37m\u001b[0m \u001b[1m25s\u001b[0m 7ms/step - loss: 8.0287e-04\n",
      "Epoch 32/100\n",
      "\u001b[1m3425/3425\u001b[0m \u001b[32m━━━━━━━━━━━━━━━━━━━━\u001b[0m\u001b[37m\u001b[0m \u001b[1m25s\u001b[0m 7ms/step - loss: 0.0010\n",
      "Epoch 33/100\n",
      "\u001b[1m3425/3425\u001b[0m \u001b[32m━━━━━━━━━━━━━━━━━━━━\u001b[0m\u001b[37m\u001b[0m \u001b[1m24s\u001b[0m 7ms/step - loss: 0.0010\n",
      "Epoch 34/100\n",
      "\u001b[1m3425/3425\u001b[0m \u001b[32m━━━━━━━━━━━━━━━━━━━━\u001b[0m\u001b[37m\u001b[0m \u001b[1m25s\u001b[0m 7ms/step - loss: 9.0924e-04\n",
      "Epoch 35/100\n",
      "\u001b[1m3425/3425\u001b[0m \u001b[32m━━━━━━━━━━━━━━━━━━━━\u001b[0m\u001b[37m\u001b[0m \u001b[1m26s\u001b[0m 8ms/step - loss: 7.8073e-04\n",
      "Epoch 36/100\n",
      "\u001b[1m3425/3425\u001b[0m \u001b[32m━━━━━━━━━━━━━━━━━━━━\u001b[0m\u001b[37m\u001b[0m \u001b[1m25s\u001b[0m 7ms/step - loss: 9.3792e-04\n",
      "Epoch 37/100\n",
      "\u001b[1m3425/3425\u001b[0m \u001b[32m━━━━━━━━━━━━━━━━━━━━\u001b[0m\u001b[37m\u001b[0m \u001b[1m25s\u001b[0m 7ms/step - loss: 6.8556e-04\n",
      "Epoch 38/100\n",
      "\u001b[1m3425/3425\u001b[0m \u001b[32m━━━━━━━━━━━━━━━━━━━━\u001b[0m\u001b[37m\u001b[0m \u001b[1m63s\u001b[0m 18ms/step - loss: 8.9833e-04\n",
      "Epoch 39/100\n",
      "\u001b[1m3425/3425\u001b[0m \u001b[32m━━━━━━━━━━━━━━━━━━━━\u001b[0m\u001b[37m\u001b[0m \u001b[1m25s\u001b[0m 7ms/step - loss: 8.9623e-04\n",
      "Epoch 40/100\n",
      "\u001b[1m3425/3425\u001b[0m \u001b[32m━━━━━━━━━━━━━━━━━━━━\u001b[0m\u001b[37m\u001b[0m \u001b[1m25s\u001b[0m 7ms/step - loss: 8.4047e-04\n",
      "Epoch 41/100\n",
      "\u001b[1m3425/3425\u001b[0m \u001b[32m━━━━━━━━━━━━━━━━━━━━\u001b[0m\u001b[37m\u001b[0m \u001b[1m26s\u001b[0m 8ms/step - loss: 8.0538e-04\n",
      "Epoch 42/100\n",
      "\u001b[1m3425/3425\u001b[0m \u001b[32m━━━━━━━━━━━━━━━━━━━━\u001b[0m\u001b[37m\u001b[0m \u001b[1m26s\u001b[0m 8ms/step - loss: 8.7137e-04\n",
      "Epoch 43/100\n",
      "\u001b[1m3425/3425\u001b[0m \u001b[32m━━━━━━━━━━━━━━━━━━━━\u001b[0m\u001b[37m\u001b[0m \u001b[1m26s\u001b[0m 8ms/step - loss: 9.7254e-04\n",
      "Epoch 44/100\n",
      "\u001b[1m3425/3425\u001b[0m \u001b[32m━━━━━━━━━━━━━━━━━━━━\u001b[0m\u001b[37m\u001b[0m \u001b[1m25s\u001b[0m 7ms/step - loss: 7.9269e-04\n",
      "Epoch 45/100\n",
      "\u001b[1m3425/3425\u001b[0m \u001b[32m━━━━━━━━━━━━━━━━━━━━\u001b[0m\u001b[37m\u001b[0m \u001b[1m27s\u001b[0m 8ms/step - loss: 8.6366e-04\n",
      "Epoch 46/100\n",
      "\u001b[1m3425/3425\u001b[0m \u001b[32m━━━━━━━━━━━━━━━━━━━━\u001b[0m\u001b[37m\u001b[0m \u001b[1m26s\u001b[0m 7ms/step - loss: 7.8898e-04\n",
      "Epoch 47/100\n",
      "\u001b[1m3425/3425\u001b[0m \u001b[32m━━━━━━━━━━━━━━━━━━━━\u001b[0m\u001b[37m\u001b[0m \u001b[1m25s\u001b[0m 7ms/step - loss: 9.0830e-04\n",
      "Epoch 48/100\n",
      "\u001b[1m3425/3425\u001b[0m \u001b[32m━━━━━━━━━━━━━━━━━━━━\u001b[0m\u001b[37m\u001b[0m \u001b[1m25s\u001b[0m 7ms/step - loss: 7.0911e-04\n",
      "Epoch 49/100\n",
      "\u001b[1m3425/3425\u001b[0m \u001b[32m━━━━━━━━━━━━━━━━━━━━\u001b[0m\u001b[37m\u001b[0m \u001b[1m26s\u001b[0m 7ms/step - loss: 8.5984e-04\n",
      "Epoch 50/100\n",
      "\u001b[1m3425/3425\u001b[0m \u001b[32m━━━━━━━━━━━━━━━━━━━━\u001b[0m\u001b[37m\u001b[0m \u001b[1m26s\u001b[0m 8ms/step - loss: 9.9099e-04\n",
      "Epoch 51/100\n",
      "\u001b[1m3425/3425\u001b[0m \u001b[32m━━━━━━━━━━━━━━━━━━━━\u001b[0m\u001b[37m\u001b[0m \u001b[1m27s\u001b[0m 8ms/step - loss: 8.8861e-04\n",
      "Epoch 52/100\n",
      "\u001b[1m3425/3425\u001b[0m \u001b[32m━━━━━━━━━━━━━━━━━━━━\u001b[0m\u001b[37m\u001b[0m \u001b[1m21s\u001b[0m 6ms/step - loss: 9.8004e-04\n",
      "Epoch 53/100\n",
      "\u001b[1m3425/3425\u001b[0m \u001b[32m━━━━━━━━━━━━━━━━━━━━\u001b[0m\u001b[37m\u001b[0m \u001b[1m23s\u001b[0m 7ms/step - loss: 8.2597e-04\n",
      "Epoch 54/100\n",
      "\u001b[1m3425/3425\u001b[0m \u001b[32m━━━━━━━━━━━━━━━━━━━━\u001b[0m\u001b[37m\u001b[0m \u001b[1m21s\u001b[0m 6ms/step - loss: 8.3340e-04\n",
      "Epoch 55/100\n",
      "\u001b[1m3425/3425\u001b[0m \u001b[32m━━━━━━━━━━━━━━━━━━━━\u001b[0m\u001b[37m\u001b[0m \u001b[1m21s\u001b[0m 6ms/step - loss: 8.1240e-04\n",
      "Epoch 56/100\n",
      "\u001b[1m3425/3425\u001b[0m \u001b[32m━━━━━━━━━━━━━━━━━━━━\u001b[0m\u001b[37m\u001b[0m \u001b[1m22s\u001b[0m 6ms/step - loss: 8.0682e-04\n",
      "Epoch 57/100\n",
      "\u001b[1m3425/3425\u001b[0m \u001b[32m━━━━━━━━━━━━━━━━━━━━\u001b[0m\u001b[37m\u001b[0m \u001b[1m23s\u001b[0m 7ms/step - loss: 8.0527e-04\n",
      "Epoch 58/100\n",
      "\u001b[1m3425/3425\u001b[0m \u001b[32m━━━━━━━━━━━━━━━━━━━━\u001b[0m\u001b[37m\u001b[0m \u001b[1m23s\u001b[0m 7ms/step - loss: 9.3409e-04\n",
      "Epoch 59/100\n",
      "\u001b[1m3425/3425\u001b[0m \u001b[32m━━━━━━━━━━━━━━━━━━━━\u001b[0m\u001b[37m\u001b[0m \u001b[1m24s\u001b[0m 7ms/step - loss: 8.6924e-04\n",
      "Epoch 60/100\n",
      "\u001b[1m3425/3425\u001b[0m \u001b[32m━━━━━━━━━━━━━━━━━━━━\u001b[0m\u001b[37m\u001b[0m \u001b[1m25s\u001b[0m 7ms/step - loss: 8.9835e-04\n",
      "Epoch 61/100\n",
      "\u001b[1m3425/3425\u001b[0m \u001b[32m━━━━━━━━━━━━━━━━━━━━\u001b[0m\u001b[37m\u001b[0m \u001b[1m27s\u001b[0m 8ms/step - loss: 7.9611e-04\n",
      "Epoch 62/100\n",
      "\u001b[1m3425/3425\u001b[0m \u001b[32m━━━━━━━━━━━━━━━━━━━━\u001b[0m\u001b[37m\u001b[0m \u001b[1m33s\u001b[0m 10ms/step - loss: 8.6087e-04\n",
      "Epoch 63/100\n",
      "\u001b[1m3425/3425\u001b[0m \u001b[32m━━━━━━━━━━━━━━━━━━━━\u001b[0m\u001b[37m\u001b[0m \u001b[1m31s\u001b[0m 9ms/step - loss: 7.8305e-04\n",
      "Epoch 64/100\n",
      "\u001b[1m3425/3425\u001b[0m \u001b[32m━━━━━━━━━━━━━━━━━━━━\u001b[0m\u001b[37m\u001b[0m \u001b[1m25s\u001b[0m 7ms/step - loss: 9.3219e-04\n",
      "Epoch 65/100\n",
      "\u001b[1m3425/3425\u001b[0m \u001b[32m━━━━━━━━━━━━━━━━━━━━\u001b[0m\u001b[37m\u001b[0m \u001b[1m25s\u001b[0m 7ms/step - loss: 9.2210e-04\n",
      "Epoch 66/100\n",
      "\u001b[1m3425/3425\u001b[0m \u001b[32m━━━━━━━━━━━━━━━━━━━━\u001b[0m\u001b[37m\u001b[0m \u001b[1m25s\u001b[0m 7ms/step - loss: 8.8349e-04\n",
      "Epoch 67/100\n",
      "\u001b[1m3425/3425\u001b[0m \u001b[32m━━━━━━━━━━━━━━━━━━━━\u001b[0m\u001b[37m\u001b[0m \u001b[1m23s\u001b[0m 7ms/step - loss: 8.6263e-04\n",
      "Epoch 68/100\n",
      "\u001b[1m3425/3425\u001b[0m \u001b[32m━━━━━━━━━━━━━━━━━━━━\u001b[0m\u001b[37m\u001b[0m \u001b[1m87s\u001b[0m 25ms/step - loss: 8.9793e-04\n",
      "Epoch 69/100\n",
      "\u001b[1m3425/3425\u001b[0m \u001b[32m━━━━━━━━━━━━━━━━━━━━\u001b[0m\u001b[37m\u001b[0m \u001b[1m23s\u001b[0m 7ms/step - loss: 8.0507e-04\n",
      "Epoch 70/100\n",
      "\u001b[1m3425/3425\u001b[0m \u001b[32m━━━━━━━━━━━━━━━━━━━━\u001b[0m\u001b[37m\u001b[0m \u001b[1m26s\u001b[0m 8ms/step - loss: 8.0888e-04\n",
      "Epoch 71/100\n",
      "\u001b[1m3425/3425\u001b[0m \u001b[32m━━━━━━━━━━━━━━━━━━━━\u001b[0m\u001b[37m\u001b[0m \u001b[1m27s\u001b[0m 8ms/step - loss: 8.1940e-04\n",
      "Epoch 72/100\n",
      "\u001b[1m3425/3425\u001b[0m \u001b[32m━━━━━━━━━━━━━━━━━━━━\u001b[0m\u001b[37m\u001b[0m \u001b[1m27s\u001b[0m 8ms/step - loss: 9.2884e-04\n",
      "Epoch 73/100\n",
      "\u001b[1m3425/3425\u001b[0m \u001b[32m━━━━━━━━━━━━━━━━━━━━\u001b[0m\u001b[37m\u001b[0m \u001b[1m27s\u001b[0m 8ms/step - loss: 8.1075e-04\n",
      "Epoch 74/100\n",
      "\u001b[1m3425/3425\u001b[0m \u001b[32m━━━━━━━━━━━━━━━━━━━━\u001b[0m\u001b[37m\u001b[0m \u001b[1m36s\u001b[0m 7ms/step - loss: 8.1605e-04\n",
      "Epoch 75/100\n",
      "\u001b[1m3425/3425\u001b[0m \u001b[32m━━━━━━━━━━━━━━━━━━━━\u001b[0m\u001b[37m\u001b[0m \u001b[1m27s\u001b[0m 8ms/step - loss: 8.3134e-04\n",
      "Epoch 76/100\n",
      "\u001b[1m3425/3425\u001b[0m \u001b[32m━━━━━━━━━━━━━━━━━━━━\u001b[0m\u001b[37m\u001b[0m \u001b[1m27s\u001b[0m 8ms/step - loss: 7.9901e-04\n",
      "Epoch 77/100\n",
      "\u001b[1m3425/3425\u001b[0m \u001b[32m━━━━━━━━━━━━━━━━━━━━\u001b[0m\u001b[37m\u001b[0m \u001b[1m28s\u001b[0m 8ms/step - loss: 9.2083e-04\n",
      "Epoch 78/100\n",
      "\u001b[1m3425/3425\u001b[0m \u001b[32m━━━━━━━━━━━━━━━━━━━━\u001b[0m\u001b[37m\u001b[0m \u001b[1m28s\u001b[0m 8ms/step - loss: 9.4942e-04\n",
      "Epoch 79/100\n",
      "\u001b[1m3425/3425\u001b[0m \u001b[32m━━━━━━━━━━━━━━━━━━━━\u001b[0m\u001b[37m\u001b[0m \u001b[1m1385s\u001b[0m 404ms/step - loss: 8.4014e-04\n",
      "Epoch 80/100\n",
      "\u001b[1m3425/3425\u001b[0m \u001b[32m━━━━━━━━━━━━━━━━━━━━\u001b[0m\u001b[37m\u001b[0m \u001b[1m24s\u001b[0m 7ms/step - loss: 9.0016e-04\n",
      "Epoch 81/100\n",
      "\u001b[1m3425/3425\u001b[0m \u001b[32m━━━━━━━━━━━━━━━━━━━━\u001b[0m\u001b[37m\u001b[0m \u001b[1m25s\u001b[0m 7ms/step - loss: 8.6693e-04\n",
      "Epoch 82/100\n",
      "\u001b[1m3425/3425\u001b[0m \u001b[32m━━━━━━━━━━━━━━━━━━━━\u001b[0m\u001b[37m\u001b[0m \u001b[1m26s\u001b[0m 8ms/step - loss: 7.8592e-04\n",
      "Epoch 83/100\n",
      "\u001b[1m3425/3425\u001b[0m \u001b[32m━━━━━━━━━━━━━━━━━━━━\u001b[0m\u001b[37m\u001b[0m \u001b[1m27s\u001b[0m 8ms/step - loss: 8.7325e-04\n",
      "Epoch 84/100\n",
      "\u001b[1m3425/3425\u001b[0m \u001b[32m━━━━━━━━━━━━━━━━━━━━\u001b[0m\u001b[37m\u001b[0m \u001b[1m28s\u001b[0m 8ms/step - loss: 8.2476e-04\n",
      "Epoch 85/100\n",
      "\u001b[1m3425/3425\u001b[0m \u001b[32m━━━━━━━━━━━━━━━━━━━━\u001b[0m\u001b[37m\u001b[0m \u001b[1m29s\u001b[0m 9ms/step - loss: 7.7418e-04\n",
      "Epoch 86/100\n",
      "\u001b[1m3425/3425\u001b[0m \u001b[32m━━━━━━━━━━━━━━━━━━━━\u001b[0m\u001b[37m\u001b[0m \u001b[1m31s\u001b[0m 9ms/step - loss: 8.4662e-04\n",
      "Epoch 87/100\n",
      "\u001b[1m3425/3425\u001b[0m \u001b[32m━━━━━━━━━━━━━━━━━━━━\u001b[0m\u001b[37m\u001b[0m \u001b[1m32s\u001b[0m 9ms/step - loss: 8.6370e-04\n",
      "Epoch 88/100\n",
      "\u001b[1m3425/3425\u001b[0m \u001b[32m━━━━━━━━━━━━━━━━━━━━\u001b[0m\u001b[37m\u001b[0m \u001b[1m34s\u001b[0m 10ms/step - loss: 9.5509e-04\n",
      "Epoch 89/100\n",
      "\u001b[1m3425/3425\u001b[0m \u001b[32m━━━━━━━━━━━━━━━━━━━━\u001b[0m\u001b[37m\u001b[0m \u001b[1m32s\u001b[0m 9ms/step - loss: 8.1577e-04\n",
      "Epoch 90/100\n",
      "\u001b[1m3425/3425\u001b[0m \u001b[32m━━━━━━━━━━━━━━━━━━━━\u001b[0m\u001b[37m\u001b[0m \u001b[1m28s\u001b[0m 8ms/step - loss: 8.1113e-04\n",
      "Epoch 91/100\n",
      "\u001b[1m3425/3425\u001b[0m \u001b[32m━━━━━━━━━━━━━━━━━━━━\u001b[0m\u001b[37m\u001b[0m \u001b[1m27s\u001b[0m 8ms/step - loss: 9.7110e-04\n",
      "Epoch 92/100\n",
      "\u001b[1m3425/3425\u001b[0m \u001b[32m━━━━━━━━━━━━━━━━━━━━\u001b[0m\u001b[37m\u001b[0m \u001b[1m461s\u001b[0m 135ms/step - loss: 7.4186e-04\n",
      "Epoch 93/100\n",
      "\u001b[1m3425/3425\u001b[0m \u001b[32m━━━━━━━━━━━━━━━━━━━━\u001b[0m\u001b[37m\u001b[0m \u001b[1m30s\u001b[0m 9ms/step - loss: 9.5232e-04\n",
      "Epoch 94/100\n",
      "\u001b[1m3425/3425\u001b[0m \u001b[32m━━━━━━━━━━━━━━━━━━━━\u001b[0m\u001b[37m\u001b[0m \u001b[1m28s\u001b[0m 8ms/step - loss: 8.1358e-04\n",
      "Epoch 95/100\n",
      "\u001b[1m3425/3425\u001b[0m \u001b[32m━━━━━━━━━━━━━━━━━━━━\u001b[0m\u001b[37m\u001b[0m \u001b[1m27s\u001b[0m 8ms/step - loss: 7.4004e-04\n",
      "Epoch 96/100\n",
      "\u001b[1m3425/3425\u001b[0m \u001b[32m━━━━━━━━━━━━━━━━━━━━\u001b[0m\u001b[37m\u001b[0m \u001b[1m27s\u001b[0m 8ms/step - loss: 8.8765e-04\n",
      "Epoch 97/100\n",
      "\u001b[1m3425/3425\u001b[0m \u001b[32m━━━━━━━━━━━━━━━━━━━━\u001b[0m\u001b[37m\u001b[0m \u001b[1m27s\u001b[0m 8ms/step - loss: 9.1978e-04\n",
      "Epoch 98/100\n",
      "\u001b[1m3425/3425\u001b[0m \u001b[32m━━━━━━━━━━━━━━━━━━━━\u001b[0m\u001b[37m\u001b[0m \u001b[1m27s\u001b[0m 8ms/step - loss: 8.4461e-04\n",
      "Epoch 99/100\n",
      "\u001b[1m3425/3425\u001b[0m \u001b[32m━━━━━━━━━━━━━━━━━━━━\u001b[0m\u001b[37m\u001b[0m \u001b[1m26s\u001b[0m 8ms/step - loss: 8.7389e-04\n",
      "Epoch 100/100\n",
      "\u001b[1m3425/3425\u001b[0m \u001b[32m━━━━━━━━━━━━━━━━━━━━\u001b[0m\u001b[37m\u001b[0m \u001b[1m953s\u001b[0m 278ms/step - loss: 8.3294e-04\n"
     ]
    },
    {
     "data": {
      "text/plain": [
       "<keras.src.callbacks.history.History at 0x204bcdf65d0>"
      ]
     },
     "execution_count": 91,
     "metadata": {},
     "output_type": "execute_result"
    }
   ],
   "source": [
    "model_full.fit(X_full, y_full, epochs=100, batch_size=32)"
   ]
  },
  {
   "cell_type": "code",
   "execution_count": 92,
   "id": "afc92aa8-cbf7-489b-9c11-cf1cabd11dbf",
   "metadata": {
    "tags": []
   },
   "outputs": [],
   "source": [
    "last_time_step_data = scaled_data[-time_step:]"
   ]
  },
  {
   "cell_type": "code",
   "execution_count": 93,
   "id": "1e5bc5a7-084c-49e2-85a3-607f16ccb931",
   "metadata": {
    "tags": []
   },
   "outputs": [],
   "source": [
    "next_three_months_predictions = []"
   ]
  },
  {
   "cell_type": "code",
   "execution_count": 94,
   "id": "3f89adf0-b102-429b-8aa3-da71da3703f9",
   "metadata": {
    "tags": []
   },
   "outputs": [],
   "source": [
    "next_month_data = np.array([last_time_step_data])"
   ]
  },
  {
   "cell_type": "code",
   "execution_count": 95,
   "id": "77684333-77b5-44cc-8fd7-21e88507e468",
   "metadata": {
    "tags": []
   },
   "outputs": [
    {
     "data": {
      "text/plain": [
       "array([[[0.98995434, 0.09716676],\n",
       "        [0.99086758, 0.09716676],\n",
       "        [0.99178082, 0.09716676],\n",
       "        [0.99269406, 0.09716676],\n",
       "        [0.99360731, 0.09716676],\n",
       "        [0.99452055, 0.09716676],\n",
       "        [0.99543379, 0.09716676],\n",
       "        [0.99634703, 0.09716676],\n",
       "        [0.99726027, 0.09716676],\n",
       "        [0.99817352, 0.09716676],\n",
       "        [0.99908676, 0.09716676],\n",
       "        [1.        , 0.09716676]]])"
      ]
     },
     "execution_count": 95,
     "metadata": {},
     "output_type": "execute_result"
    }
   ],
   "source": [
    "next_month_data"
   ]
  },
  {
   "cell_type": "code",
   "execution_count": null,
   "id": "5cbc3b87-8065-484c-9a49-8f215570c63a",
   "metadata": {},
   "outputs": [],
   "source": []
  }
 ],
 "metadata": {
  "kernelspec": {
   "display_name": "Python 3 (ipykernel)",
   "language": "python",
   "name": "python3"
  },
  "language_info": {
   "codemirror_mode": {
    "name": "ipython",
    "version": 3
   },
   "file_extension": ".py",
   "mimetype": "text/x-python",
   "name": "python",
   "nbconvert_exporter": "python",
   "pygments_lexer": "ipython3",
   "version": "3.11.5"
  }
 },
 "nbformat": 4,
 "nbformat_minor": 5
}
